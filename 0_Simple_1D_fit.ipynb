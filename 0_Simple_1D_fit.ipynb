{
  "nbformat": 4,
  "nbformat_minor": 0,
  "metadata": {
    "colab": {
      "name": "0_Simple_1D_fit.ipynb",
      "provenance": [],
      "authorship_tag": "ABX9TyOZRObL+G4fC57J3hedUusw",
      "include_colab_link": true
    },
    "kernelspec": {
      "name": "python3",
      "display_name": "Python 3"
    }
  },
  "cells": [
    {
      "cell_type": "markdown",
      "metadata": {
        "id": "view-in-github",
        "colab_type": "text"
      },
      "source": [
        "<a href=\"https://colab.research.google.com/github/rhiju/rna_lores2/blob/main/0_Simple_1D_fit.ipynb\" target=\"_parent\"><img src=\"https://colab.research.google.com/assets/colab-badge.svg\" alt=\"Open In Colab\"/></a>"
      ]
    },
    {
      "cell_type": "code",
      "metadata": {
        "id": "vuLXaO3q2_Bo"
      },
      "source": [
        "import torch\n",
        "from torch.autograd import Variable\n",
        "import numpy as np\n",
        "\n",
        "def rmse(y, y_hat):\n",
        "    \"\"\"Compute root mean squared error\"\"\"\n",
        "    return torch.sqrt(torch.mean((y - y_hat).pow(2)))\n",
        "\n",
        "def forward(x, e):\n",
        "    \"\"\"Forward pass for our fuction\"\"\"\n",
        "    return x.pow(e.repeat(x.size(0)))\n",
        "\n",
        "# Let's define some settings\n",
        "n = 1000 # number of examples\n",
        "learning_rate = 5e-7\n",
        "\n",
        "# Model definition\n",
        "x = Variable(torch.rand(n) * 10, requires_grad=False)\n",
        "y = forward(x, exp)\n",
        "\n",
        "# Model parameters\n",
        "exp = Variable(torch.FloatTensor([2.0]), requires_grad=False)\n",
        "exp_hat = Variable(torch.FloatTensor([4]), requires_grad=True)\n",
        "\n",
        "# Optimizer (NEW)\n",
        "opt = torch.optim.SGD([exp_hat], lr=learning_rate, momentum=0.9)\n",
        "\n",
        "loss_history = []\n",
        "exp_history = []\n",
        "\n",
        "# Training loop\n",
        "for i in range(0, 2000):\n",
        "    opt.zero_grad()\n",
        "    \n",
        "    # Compute current estimate\n",
        "    y_hat = forward(x, exp_hat)\n",
        "    \n",
        "    # Calculate loss function\n",
        "    loss = rmse(y, y_hat)\n",
        "    \n",
        "    # Do some recordings for plots\n",
        "    loss_history.append(loss.item())\n",
        "    exp_history.append(y_hat.data[0])\n",
        "    \n",
        "    # Update model parameters\n",
        "    loss.backward()\n",
        "    opt.step()\n",
        "    if (i%100 == 0):\n",
        "      print(\"Iteration %d\" % i)\n",
        "      print(\"loss = %s\" % loss.item())\n",
        "      print(\"exp = %s\" % exp_hat.data[0])\n"
      ],
      "execution_count": null,
      "outputs": []
    },
    {
      "cell_type": "code",
      "metadata": {
        "id": "n0Rgg4PB3hiI"
      },
      "source": [
        ""
      ],
      "execution_count": null,
      "outputs": []
    }
  ]
}