{
  "nbformat": 4,
  "nbformat_minor": 0,
  "metadata": {
    "colab": {
      "name": "0_Simple_1D_fit.ipynb",
      "provenance": [],
      "collapsed_sections": [],
      "authorship_tag": "ABX9TyMcYcY3fZOEMgRMeno6JACO",
      "include_colab_link": true
    },
    "kernelspec": {
      "name": "python3",
      "display_name": "Python 3"
    }
  },
  "cells": [
    {
      "cell_type": "markdown",
      "metadata": {
        "id": "view-in-github",
        "colab_type": "text"
      },
      "source": [
        "<a href=\"https://colab.research.google.com/github/rhiju/rna_lores2/blob/main/0_Simple_1D_fit.ipynb\" target=\"_parent\"><img src=\"https://colab.research.google.com/assets/colab-badge.svg\" alt=\"Open In Colab\"/></a>"
      ]
    },
    {
      "cell_type": "markdown",
      "metadata": {
        "id": "eYnFXyXeN0sx"
      },
      "source": [
        "Fitting exponent of a polynomial; very simple 1D fit.\n",
        "Adapted from\n",
        " https://towardsdatascience.com/pytorch-vs-tensorflow-spotting-the-difference-25c75777377b"
      ]
    },
    {
      "cell_type": "code",
      "metadata": {
        "id": "vuLXaO3q2_Bo",
        "outputId": "28ba0c23-bbbe-463f-a0fd-611e1cfd683c",
        "colab": {
          "base_uri": "https://localhost:8080/"
        }
      },
      "source": [
        "\n",
        "\n",
        "import torch\n",
        "from torch.autograd import Variable\n",
        "import numpy as np\n",
        "\n",
        "def rmse(y, y_hat):\n",
        "    \"\"\"Compute root mean squared error\"\"\"\n",
        "    return torch.sqrt(torch.mean((y - y_hat).pow(2)))\n",
        "\n",
        "def forward(x, e):\n",
        "    \"\"\"Forward pass for our fuction\"\"\"\n",
        "    return x.pow(e.repeat(x.size(0)))\n",
        "\n",
        "# Let's define some settings\n",
        "n = 100 # number of examples\n",
        "learning_rate = 5e-7\n",
        "\n",
        "# Model parameters\n",
        "exp = Variable(torch.FloatTensor([2.0]), requires_grad=False)\n",
        "exp_hat = Variable(torch.FloatTensor([4]), requires_grad=True)\n",
        "\n",
        "# Model definition\n",
        "x = Variable(torch.rand(n) * 10, requires_grad=False)\n",
        "y = forward(x, exp)\n",
        "y += 10.0* torch.randn(n)\n",
        "\n",
        "# Optimizer (NEW)\n",
        "opt = torch.optim.SGD([exp_hat], lr=learning_rate, momentum=0.9)\n",
        "\n",
        "loss_history = []\n",
        "exp_history = []\n",
        "\n",
        "# Training loop\n",
        "for i in range(0, 2000):\n",
        "    opt.zero_grad()\n",
        "    \n",
        "    # Compute current estimate\n",
        "    y_hat = forward(x, exp_hat)\n",
        "    \n",
        "    # Calculate loss function\n",
        "    loss = rmse(y, y_hat)\n",
        "    \n",
        "    # Do some recordings for plots\n",
        "    loss_history.append(loss.item())\n",
        "    exp_history.append(exp_hat.item())\n",
        "    \n",
        "    # Update model parameters\n",
        "    loss.backward()\n",
        "    opt.step()\n",
        "    if (i%100 == 0):\n",
        "      print(\"Iteration %d\" % i)\n",
        "      print(\"loss = %s\" % loss.item())\n",
        "      print(\"exp = %s\" % exp_hat.item())\n"
      ],
      "execution_count": 280,
      "outputs": [
        {
          "output_type": "stream",
          "text": [
            "Iteration 0\n",
            "loss = 3415.465576171875\n",
            "exp = 3.9962024688720703\n",
            "Iteration 100\n",
            "loss = 284.4277648925781\n",
            "exp = 2.918306589126587\n",
            "Iteration 200\n",
            "loss = 135.58291625976562\n",
            "exp = 2.64265513420105\n",
            "Iteration 300\n",
            "loss = 80.78827667236328\n",
            "exp = 2.475632429122925\n",
            "Iteration 400\n",
            "loss = 52.114959716796875\n",
            "exp = 2.3549914360046387\n",
            "Iteration 500\n",
            "loss = 34.69593811035156\n",
            "exp = 2.261051654815674\n",
            "Iteration 600\n",
            "loss = 23.411561965942383\n",
            "exp = 2.1854686737060547\n",
            "Iteration 700\n",
            "loss = 16.193899154663086\n",
            "exp = 2.1249895095825195\n",
            "Iteration 800\n",
            "loss = 12.12636661529541\n",
            "exp = 2.0795297622680664\n",
            "Iteration 900\n",
            "loss = 10.340106964111328\n",
            "exp = 2.049384832382202\n",
            "Iteration 1000\n",
            "loss = 9.72301959991455\n",
            "exp = 2.0316667556762695\n",
            "Iteration 1100\n",
            "loss = 9.530664443969727\n",
            "exp = 2.0217740535736084\n",
            "Iteration 1200\n",
            "loss = 9.471109390258789\n",
            "exp = 2.016268730163574\n",
            "Iteration 1300\n",
            "loss = 9.45233154296875\n",
            "exp = 2.0131773948669434\n",
            "Iteration 1400\n",
            "loss = 9.446304321289062\n",
            "exp = 2.0114259719848633\n",
            "Iteration 1500\n",
            "loss = 9.44434642791748\n",
            "exp = 2.010427474975586\n",
            "Iteration 1600\n",
            "loss = 9.443704605102539\n",
            "exp = 2.0098562240600586\n",
            "Iteration 1700\n",
            "loss = 9.44349479675293\n",
            "exp = 2.009528398513794\n",
            "Iteration 1800\n",
            "loss = 9.443424224853516\n",
            "exp = 2.009340763092041\n",
            "Iteration 1900\n",
            "loss = 9.443401336669922\n",
            "exp = 2.00923228263855\n"
          ],
          "name": "stdout"
        }
      ]
    },
    {
      "cell_type": "code",
      "metadata": {
        "id": "n0Rgg4PB3hiI",
        "outputId": "6b823a14-23bc-4ab4-a305-e802e48325e1",
        "colab": {
          "base_uri": "https://localhost:8080/",
          "height": 298
        }
      },
      "source": [
        "import matplotlib.pyplot as plt\n",
        "plt.subplot(2,1,1)\n",
        "plt.plot(exp_history)\n",
        "plt.ylim(0, 10)\n",
        "plt.show()\n",
        "plt.subplot(2,1,2)\n",
        "plt.plot(loss_history)"
      ],
      "execution_count": 69,
      "outputs": [
        {
          "output_type": "display_data",
          "data": {
            "image/png": "[encoded data removed]",
            "text/plain": [
              "<Figure size 432x288 with 1 Axes>"
            ]
          },
          "metadata": {
            "tags": [],
            "needs_background": "light"
          }
        },
        {
          "output_type": "execute_result",
          "data": {
            "text/plain": [
              "[<matplotlib.lines.Line2D at 0x7f85e603dcc0>]"
            ]
          },
          "metadata": {
            "tags": []
          },
          "execution_count": 69
        },
        {
          "output_type": "display_data",
          "data": {
            "image/png": "[encoded data removed]",
            "text/plain": [
              "<Figure size 432x288 with 1 Axes>"
            ]
          },
          "metadata": {
            "tags": [],
            "needs_background": "light"
          }
        }
      ]
    },
    {
      "cell_type": "markdown",
      "metadata": {
        "id": "TB85kojcN9C0"
      },
      "source": [
        "Fit should look good!"
      ]
    },
    {
      "cell_type": "code",
      "metadata": {
        "id": "42eny09x5q_y",
        "outputId": "0f8d6ea4-23c2-4144-9b01-b4c8d042c710",
        "colab": {
          "base_uri": "https://localhost:8080/",
          "height": 282
        }
      },
      "source": [
        "\n",
        "plt.scatter( x, y)\n",
        "x_fine = Variable(torch.linspace(0,10,50), requires_grad=False)\n",
        "y_fine = forward( x_fine, exp_hat )\n",
        "print( exp_hat )\n",
        "plt.plot(x_fine,y_fine.detach().numpy())\n",
        "plt.show()\n"
      ],
      "execution_count": 197,
      "outputs": [
        {
          "output_type": "stream",
          "text": [
            "tensor([1.9961], requires_grad=True)\n"
          ],
          "name": "stdout"
        },
        {
          "output_type": "display_data",
          "data": {
            "image/png": "[encoded data removed]",
            "text/plain": [
              "<Figure size 432x288 with 1 Axes>"
            ]
          },
          "metadata": {
            "tags": [],
            "needs_background": "light"
          }
        }
      ]
    },
    {
      "cell_type": "markdown",
      "metadata": {
        "id": "k8L-tcPfOAJb"
      },
      "source": [
        "More of a challenge -- can we fit a (jittered) Gaussian?"
      ]
    },
    {
      "cell_type": "code",
      "metadata": {
        "id": "EYFBSfqN7Ewz",
        "outputId": "71a9f486-209c-4f95-fe54-894ea142e403",
        "colab": {
          "base_uri": "https://localhost:8080/",
          "height": 299
        }
      },
      "source": [
        "def forward_gaussian(x, params):\n",
        "    \"\"\"Forward pass for our fuction\"\"\"\n",
        "    return params[2] * torch.exp( -(1/2)*((x - params[0])/params[1])**2 )\n",
        "\n",
        "# Let's define some settings\n",
        "n = 100 # number of examples\n",
        "\n",
        "\n",
        "# Model definition\n",
        "p = torch.Tensor( [5,1,1] )\n",
        "x = Variable(torch.rand(n) * 10, requires_grad=False)\n",
        "y = forward_gaussian(x, p)\n",
        "y += 0.1* torch.randn(n)\n",
        "\n",
        "plt.scatter(x,y)\n",
        "\n",
        "# fit?\n",
        "p_init = Variable(torch.Tensor( 10.0 * torch.rand(3) ), requires_grad=True)\n",
        "print(p_init)\n",
        "y_hat = forward_gaussian(x, p_init)\n",
        "plt.scatter(x,y_hat.detach().numpy())"
      ],
      "execution_count": 323,
      "outputs": [
        {
          "output_type": "stream",
          "text": [
            "tensor([6.3402, 3.0526, 3.9059], requires_grad=True)\n"
          ],
          "name": "stdout"
        },
        {
          "output_type": "execute_result",
          "data": {
            "text/plain": [
              "<matplotlib.collections.PathCollection at 0x7f85d7be5048>"
            ]
          },
          "metadata": {
            "tags": []
          },
          "execution_count": 323
        },
        {
          "output_type": "display_data",
          "data": {
            "image/png": "[encoded data removed]",
            "text/plain": [
              "<Figure size 432x288 with 1 Axes>"
            ]
          },
          "metadata": {
            "tags": [],
            "needs_background": "light"
          }
        }
      ]
    },
    {
      "cell_type": "code",
      "metadata": {
        "id": "CFaBdY_B-MSw",
        "outputId": "0a6fa1c9-2988-454f-cff2-d71ea760562c",
        "colab": {
          "base_uri": "https://localhost:8080/",
          "height": 808
        }
      },
      "source": [
        "p_hat = Variable(p_init.clone(), requires_grad=True)\n",
        "\n",
        "# Optimizer (NEW)\n",
        "learning_rate = 5e-2\n",
        "\n",
        "opt = torch.optim.SGD([p_hat], lr=learning_rate, momentum=0.5)\n",
        "#opt = torch.optim.Adagrad([p_hat], lr=learning_rate)\n",
        "\n",
        "loss_history = []\n",
        "p_history = []\n",
        "\n",
        "# Training loop\n",
        "for i in range(0, 10000):\n",
        "    opt.zero_grad()\n",
        "    \n",
        "    # Compute current estimate\n",
        "    y_hat = forward_gaussian(x, p_hat)\n",
        "    \n",
        "    # Calculate loss function\n",
        "    loss = rmse(y, y_hat)\n",
        "    \n",
        "    # Do some recordings for plots\n",
        "    loss_history.append(loss.item())\n",
        "    p_history.append(p_hat.detach().numpy().copy())\n",
        "    \n",
        "    # Update model parameters\n",
        "    loss.backward()\n",
        "    opt.step()\n",
        "    if (i%1000 == 0):\n",
        "      print(\"Iteration %d\" % i)\n",
        "      print(\"loss = %s\" % loss.item())\n",
        "      print(p_hat)\n",
        "\n",
        "plt.subplot(2,1,1)\n",
        "plt.plot(p_history)\n",
        "plt.ylim(0, 10)\n",
        "plt.show()\n",
        "plt.subplot(2,1,2)\n",
        "plt.plot(loss_history)"
      ],
      "execution_count": 324,
      "outputs": [
        {
          "output_type": "stream",
          "text": [
            "Iteration 0\n",
            "loss = 2.568636178970337\n",
            "tensor([6.3361, 3.0319, 3.8703], requires_grad=True)\n",
            "Iteration 1000\n",
            "loss = 0.10196183621883392\n",
            "tensor([4.9856, 0.9835, 1.0263], requires_grad=True)\n",
            "Iteration 2000\n",
            "loss = 0.10196183621883392\n",
            "tensor([4.9856, 0.9835, 1.0263], requires_grad=True)\n",
            "Iteration 3000\n",
            "loss = 0.10196183621883392\n",
            "tensor([4.9856, 0.9835, 1.0263], requires_grad=True)\n",
            "Iteration 4000\n",
            "loss = 0.10196183621883392\n",
            "tensor([4.9856, 0.9835, 1.0263], requires_grad=True)\n",
            "Iteration 5000\n",
            "loss = 0.10196183621883392\n",
            "tensor([4.9856, 0.9835, 1.0263], requires_grad=True)\n",
            "Iteration 6000\n",
            "loss = 0.10196183621883392\n",
            "tensor([4.9856, 0.9835, 1.0263], requires_grad=True)\n",
            "Iteration 7000\n",
            "loss = 0.10196183621883392\n",
            "tensor([4.9856, 0.9835, 1.0263], requires_grad=True)\n",
            "Iteration 8000\n",
            "loss = 0.10196183621883392\n",
            "tensor([4.9856, 0.9835, 1.0263], requires_grad=True)\n",
            "Iteration 9000\n",
            "loss = 0.10196183621883392\n",
            "tensor([4.9856, 0.9835, 1.0263], requires_grad=True)\n"
          ],
          "name": "stdout"
        },
        {
          "output_type": "display_data",
          "data": {
            "image/png": "[encoded data removed]",
            "text/plain": [
              "<Figure size 432x288 with 1 Axes>"
            ]
          },
          "metadata": {
            "tags": [],
            "needs_background": "light"
          }
        },
        {
          "output_type": "execute_result",
          "data": {
            "text/plain": [
              "[<matplotlib.lines.Line2D at 0x7f85d7b32a58>]"
            ]
          },
          "metadata": {
            "tags": []
          },
          "execution_count": 324
        },
        {
          "output_type": "display_data",
          "data": {
            "image/png": "[encoded data removed]",
            "text/plain": [
              "<Figure size 432x288 with 1 Axes>"
            ]
          },
          "metadata": {
            "tags": [],
            "needs_background": "light"
          }
        }
      ]
    },
    {
      "cell_type": "markdown",
      "metadata": {
        "id": "aCMiNo1GOIO3"
      },
      "source": [
        "Answer: yes -- but have to tweak learning rates and have a good initial guess!"
      ]
    },
    {
      "cell_type": "code",
      "metadata": {
        "id": "0t5jqKDfAaov",
        "outputId": "a89fd7c9-b1a1-4007-f610-f1b36c33610c",
        "colab": {
          "base_uri": "https://localhost:8080/",
          "height": 282
        }
      },
      "source": [
        "plt.scatter( x, y)\n",
        "x_fine = Variable(torch.linspace(0,10,200), requires_grad=False)\n",
        "y_fine = forward_gaussian( x_fine, p_hat )\n",
        "print( p_hat )\n",
        "plt.plot(x_fine,y_fine.detach().numpy())\n",
        "plt.show()\n"
      ],
      "execution_count": 325,
      "outputs": [
        {
          "output_type": "stream",
          "text": [
            "tensor([4.9856, 0.9835, 1.0263], requires_grad=True)\n"
          ],
          "name": "stdout"
        },
        {
          "output_type": "display_data",
          "data": {
            "image/png": "[encoded data removed]",
            "text/plain": [
              "<Figure size 432x288 with 1 Axes>"
            ]
          },
          "metadata": {
            "tags": [],
            "needs_background": "light"
          }
        }
      ]
    },
    {
      "cell_type": "code",
      "metadata": {
        "id": "s9H3iAZXBReR",
        "outputId": "4fe91020-447f-4514-ed61-ac7100c321d7",
        "colab": {
          "base_uri": "https://localhost:8080/"
        }
      },
      "source": [
        "for i in range(5):\n",
        "  print( p_history[i] )\n",
        "print( len( p_history) )"
      ],
      "execution_count": 326,
      "outputs": [
        {
          "output_type": "stream",
          "text": [
            "[6.3402123 3.0526388 3.905934 ]\n",
            "[6.3360744 3.0318668 3.8703191]\n",
            "[6.3297563 3.0006866 3.8170116]\n",
            "[6.322183  2.9642708 3.755033 ]\n",
            "[6.3137903 2.9252021 3.6889277]\n",
            "10000\n"
          ],
          "name": "stdout"
        }
      ]
    },
    {
      "cell_type": "markdown",
      "metadata": {
        "id": "pCzA5HkPOP2T"
      },
      "source": [
        "Following two code blocks give some practice in making a movie in matplotlib"
      ]
    },
    {
      "cell_type": "code",
      "metadata": {
        "id": "jmpe2J8UCnyQ",
        "outputId": "a6a4894d-945f-4a8f-9ebc-40644b17face",
        "colab": {
          "base_uri": "https://localhost:8080/",
          "height": 561
        }
      },
      "source": [
        "from matplotlib import animation, rc\n",
        "from IPython.display import HTML\n",
        "\n",
        "fig, ax = plt.subplots()\n",
        "plt.scatter( x, y)\n",
        "ax.set_xlim(( 0, 10))\n",
        "ax.set_ylim((0, 2))\n",
        "\n",
        "line, = ax.plot([], [], lw=2)\n",
        "\n",
        "def init():\n",
        "    line.set_data([], [])\n",
        "    return (line,)\n",
        "\n",
        "def animate(i):\n",
        "    x_fine = Variable(torch.linspace(0,10,200), requires_grad=False)\n",
        "    y_fine = forward_gaussian( x_fine, p_history[20*i] )\n",
        "    line.set_data(x_fine.numpy(), y_fine.numpy())\n",
        "    return (line,)\n",
        "\n",
        "anim = animation.FuncAnimation(fig, animate, init_func=init,\n",
        "                               frames=500, interval=20, \n",
        "                               blit=True)\n",
        "\n",
        "HTML(anim.to_html5_video())"
      ],
      "execution_count": 327,
      "outputs": [
        {
          "output_type": "execute_result",
          "data": {
            "text/html": [
              "<video width=\"432\" height=\"288\" controls autoplay loop>\n",
              "  <source type=\"video/mp4\" src=\"data:video/mp4;base64,AAAAHGZ0eXBNNFYgAAACAGlzb21pc28yYXZjMQAAAAhmcmVlAAB19W1kYXQAAAKuBgX//6rcRem9\n",
              "5tlIt5Ys2CDZI+7veDI2NCAtIGNvcmUgMTUyIHIyODU0IGU5YTU5MDMgLSBILjI2NC9NUEVHLTQg\n",
              "QVZDIGNvZGVjIC0gQ29weWxlZnQgMjAwMy0yMDE3IC0gaHR0cDovL3d3dy52aWRlb2xhbi5vcmcv\n",
              "eDI2NC5odG1sIC0gb3B0aW9uczogY2FiYWM9MSByZWY9MyBkZWJsb2NrPTE6MDowIGFuYWx5c2U9\n",
              "MHgzOjB4MTEzIG1lPWhleCBzdWJtZT03IHBzeT0xIHBzeV9yZD0xLjAwOjAuMDAgbWl4ZWRfcmVm\n",
              "PTEgbWVfcmFuZ2U9MTYgY2hyb21hX21lPTEgdHJlbGxpcz0xIDh4OGRjdD0xIGNxbT0wIGRlYWR6\n",
              "b25lPTIxLDExIGZhc3RfcHNraXA9MSBjaHJvbWFfcXBfb2Zmc2V0PS0yIHRocmVhZHM9MyBsb29r\n",
              "YWhlYWRfdGhyZWFkcz0xIHNsaWNlZF90aHJlYWRzPTAgbnI9MCBkZWNpbWF0ZT0xIGludGVybGFj\n",
              "ZWQ9MCBibHVyYXlfY29tcGF0PTAgY29uc3RyYWluZWRfaW50cmE9MCBiZnJhbWVzPTMgYl9weXJh\n",
              "bWlkPTIgYl9hZGFwdD0xIGJfYmlhcz0wIGRpcmVjdD0xIHdlaWdodGI9MSBvcGVuX2dvcD0wIHdl\n",
              "aWdodHA9MiBrZXlpbnQ9MjUwIGtleWludF9taW49MjUgc2NlbmVjdXQ9NDAgaW50cmFfcmVmcmVz\n",
              "aD0wIHJjX2xvb2thaGVhZD00MCByYz1jcmYgbWJ0cmVlPTEgY3JmPTIzLjAgcWNvbXA9MC42MCBx\n",
              "cG1pbj0wIHFwbWF4PTY5IHFwc3RlcD00IGlwX3JhdGlvPTEuNDAgYXE9MToxLjAwAIAAABbCZYiE\n",
              "ACv//vZzfAprRzOVLgV292aj5dCS5fsQYPrQAAADAAGuIeBmE/UCkQ4a0L5CXBQcBLy/KYxVi/CP\n",
              "uz9yM7aoa30EB3+A4lzXEoGVrMQ+eof0emuWYPjzynSS8YgM3VvCEAAAAwDGmd7091nv8TEhd1TN\n",
              "d2u1fiSDvb4tIDphgh2Ysq+2USSIEE9z3kY4NMMyk9iueZIYeWm6I9M497sNArnh/FXnKxV+eByB\n",
              "xVDrCsqEYR82ys0yxATU7MkK8rBKF31BjMi4taGEe3URJMAAJUjBsdfZl6nn/85Kxm1sPZmmEypk\n",
              "EOX4mK9G/YM/yylH9Njljrs3cHwQAR+et9jsNxWsSxMQLMsQ5REbd47o8aSKCaLetdx/6NYL16La\n",
              "ZWN4LfDdUOZKNXu9Rfyg9g5pAqKaDYhhk5LU9uOKLsWWx/kLTzAMhAbk6AxvJTTAA02g7ph+ass6\n",
              "xXW5QVqexb99JQnwl5HRvt49QV/ecgbNMvDgyKkwuuIJ9LMCXtQ47IcMglBiaxbI/3lxZe59fgfQ\n",
              "2AwZm+ha/bIyuIineICz+7UVQ6g2ATGvTfzEhVazOqK0mId+5tdK+m1Sn5buRuVa0oKFexlnIvN6\n",
              "sThl5KlKbsbaW0tBghEqlT3arxVIoTmApC2ddUpmggjAJHSYVnrAK5FQ8kJmwxGt64ciXiX+Vf7Z\n",
              "gWWc6Ss2dA9FMsZxSTTdj84/z4QAAAMAFmkfteDoRjAJgnUHuGiJn9b+fYvWdGFAdeWNJE1H3j5N\n",
              "LQEH78slAh9vIixVJE1l02JCqS5CsrInHUHw8AlviBO/HjYiU+pTFrVAtMOqnqKRLUcREhYkBK5i\n",
              "U5ru+eySi2LZ6BjC+lMAAI5jRbV9J/IZfCElZ4H28JYIpS9uvuL8sMflnJnJoWalW95wdwCM2aMI\n",
              "NJmmvuNxfTS9luTXUhH7a9c5BgIGg7SHPumXbum7mNGVTuWcvtwEX30/PsnIPO79oK0Q9/FG4wTf\n",
              "46LFhqq3is9DqcqO9OaNiVQG85PVE7TmHAedeCpSDbzBr1ZplHXTNADMOoIG4Vx/3vpeL9j/udvU\n",
              "fJB61JTWYGpduLlLEusmG4nzYukRwq/Niw/C01kY80We8SMOZ/+acPUiJAB9skOB+LusQvWyS+GA\n",
              "HBTjdbd7k+KitfxJ+CGEZfRC7xZf0gr+sShrBZJZrco8jR96jao5bZhTr8HqcDL6j82d6f7pqm5E\n",
              "l4Ug1YONw0RDH4rO9RuaZdnhsdPQetpoMvVpR5hPA7PGOO/Kqfe5jIOJuYUSGCnTU5YUT9vREJCe\n",
              "yCWtw3z5p3DQq0LHohViYcDEyX4bincsDAizggRoxm7Clef7IkGKObdi0a1vs2RL0C/mjjNWP3On\n",
              "L/j4nXypzu/4KsNEUBy04sEIF/S5dRVd8Gw7oLthSsMEdUtIszGR2UzLiT1xtHH7WKc5dX3u4t6O\n",
              "rgAeBNBOP58yyoHa9JUpwd6/jyMIzfZpmbbgW9aTvE70G7iXTkWRxnj0au+Q47bXpwAgmvSjTKRk\n",
              "47IAFmPRPHBP33AN0Dh4LKIKXsQzElOpt8vck4J/pR1pyWUeKADt6vG4gRocp5VcFuOMMCu0unJX\n",
              "7fKVMY0oCSubZMX+yzBGeTI0i1BkUlIBhF5U7YJo8ai+UyzUgG4+scIcARZ/EhfCwBj/hcXz+y6W\n",
              "LSsonYiqKKOsz+nf00j+RRvyNB5zxFKtWoqKSZs5+vHuowGAVJwyvs0pmwU+thJaGcfvxtZCfz4F\n",
              "ue3AeFqOv+9TCoyFoI+fPPbdYklF79OxwTs2T8hqu849bvrv6x/uLCtb8NXF1Lv4KOcM7i8BpkXG\n",
              "F77rbYFaE1ez7QfjVy05ockhBPOmo8IJuD+36imz621s4uBGZKt2JlaOVT1mEleqpmJNsaASZrqE\n",
              "3KS+U3Toi21v9whsQ2Xyl4ILMsxDa4Qlt9ba5NPDn/38ucG2BYocZluZ5E26g5MJckLnFw+PyF9Q\n",
              "4H6/4ofz/t0eibHD3H2sNGSpD5MfTs3oSyQUnvB56L5P3+bLTpf9zKK2OKHuaLgrb+GLd+anDkVi\n",
              "AhUqYKpkqutF48e7ju0qfjdZ+GkpMPRKU63rBILsPpP3vwnY//9vDeK3AMnTKH9XdTrntyy24qug\n",
              "d+MIPbfUUI8eCiQRVAlOR0mEVW/4KJsxkmGhfvDtd6FP0+y3mP/I4vDhdIkyl+jeJnyjSV9lIcKB\n",
              "0oa8HM5kyJt/mTWSwYzpa3Kp9+zkx2rDZUU1IZUYHpQ6gu9lRqqeNXN7v1S4AVHSJ1AiLKgGxjfd\n",
              "MCd8kPs02fU2k7re13jZP7NhGUzolxoCEKfJwegQpgt12hcNd/zBAcWu0pWy2B8/FbfJDwJ4yCx6\n",
              "xF1Cbf3dkQmaRH9JZhpjXkpmA7/E6WDX+JT6WPHgJOdNkMDrSjDLJF3BrPItSDSsq1Y3Tfn6twNg\n",
              "L8mXInlZDewzwYg5o2vI6985ERaRXDredZE7fi3ndGAjDWWY1SO1SHelutryaJ+NzYp2AsU6DSGL\n",
              "5ok77yt7W9e8kixaNyO+KfFurji1CVeQfI4p+Gjkbm5UNEjwBK+XlIyezAq4IMiF5/05OzNo/Sf8\n",
              "Rg9GErWHBYuAAyxvqLJ1lnyWJ/8Ef6rQkyrvzpmWFygqVQNU07JpooPcNSHPRIkXLdsGdUbo6Dnk\n",
              "vGFD5fjUqdivlAeIPHhColVMiaOmmotRFEJ5aYSg7xmdXCQJr1YcY3X6etZWrH0iu/+D48nEza+N\n",
              "E4aiWN7w82XelPBpVGNYxUY0YmXpeOxHfwVKaycAb1Yjz5IiLOSwQOJAH6jLDRAdW30kzDAetmAw\n",
              "lUxqDT4dc9TDGrv/o08qLKOwb6iTogrc/9CuXAnLiBSogXgwVdcPFvrESbIZNuiZRHfsyo6iPwvi\n",
              "l82Qd2LYt0ljh8jShqGcL41Ie+jHG6c4Zv/9Jp/DyU2HALyzhJw+wScqBdfLnGXPlCjLoyb4juqX\n",
              "MsN/DVy08VOE8G+cAMaOZ5iWpzE2B0BqlUWQEJKlbpo/dgyGxwR0jyU9No2WJXu5kegODEEdALke\n",
              "raFGXjBY92R4cOHApEdt1M9hzzJY3xFeaL1ua3vg12Od24hS9eSioh6f6dhpE2nELuex4+2Gsnoi\n",
              "8pHphQxn+EUomJK7wltPrVzFWvDVuAU5yvRjhLS4BS6bLBlvq21+CaoqSvr0rB+/RVdgSJyKJA1h\n",
              "FcjxeFUpMzCYOaXCOfddK/1ntgfz9K3Fg5uezMV0/pzfORwuXkNxkrUlNl0kVs7fDDrvI7xyATHV\n",
              "7hCPn1u6R3oGaD6GwTtKA9DCzRS8HG3XzaJzO/JfsXChzLR0FVU0/zvWECR/6vml3HVcQtRcV02E\n",
              "qs9eTs+DfBrssqUFTOKUKSjVvg9D1IIYkYAb6qXrps+ktLRa5w2yB5PWuX5jQicunca9TTuG4Gxe\n",
              "AEdNjDXBJkJVC1JU3e5p1ddUz/qqxU6b7kW2Mq8REk5Cb1HCBjuoJxpjkOdb5BHKpDuTTkwOaZUa\n",
              "WEq2C3WzPhDY5y6hKAlJ+IkmFIvHZ1rR/5jZD14w741fM5ie4r/kTzXux2H/WRGnm/2TzehPphNO\n",
              "5zbpywxvSMr3RuTY6W41Y/j/gkTTKATCPr1fCARKCR175vFBe7reNvczB+kRrfZqx2gvPookOvxl\n",
              "JrNBIUYQ8YmhjfUwvtlbwP/x79fh2+evFYGBhKBay1dnSufR2EfWPZsrAqZo5j1PwE/EF4iJ2G81\n",
              "IjOpHdw14JqEPvcEb811RngakbJFr0Y4iVUw5EmLQdAeK6S+QZXiYg7trDsvAqN8qgggCqxqOsCZ\n",
              "eOaGhxCJo+Y2zimaIPf5zhPyYXZUOJLhrd+l0Q7rY4tHJLuMoQKgMIoldurlkjPynKxZfo9os0mK\n",
              "u75z0rc3s34+0Q7lUrAr4JWpwMeweKzQEunxVIxPKHBGQIId7koFKtvO2r7LLFnipy0mP1RPBsyF\n",
              "P2E9stdp59OUvt3SicvM5l4H6KCqAC9I85iM7i4laxiMO12o1ZZ1mG114V2OKDF1hL5lgUjI0hc7\n",
              "pTyZDXIs7IZ+CY/sdbocqcOisvVgTTdpu/8JWYnTCs52JvhAcKdmL2hSHYo/cDEEmdfvV3nx9iuJ\n",
              "8xOVENpJ+zvpySS3x9Q2C8yu/MohAZ8r+zbIe+88lPAodaYIw0FyA4XquTK/Gs+onk+/vHUima3g\n",
              "eibqX+JKd4dv4swgLJ2cxjWzmz8+2t5WZ+KJe0y3JUiIiq6NxMOKZUQRYYxsSaGVn6+9YU98bvqY\n",
              "aAQTPo6l7FZFRFIEV+BXsHA6Ly2SX1NnUDA8b4L+JlnvqZJKzFlMuGcTnTQqJbZawIau+s5cjhm4\n",
              "hYyLjqhL6HQtpYX55WKFRXIKeAPk+qQsjqoNM0caEEaC7XQGypTy5bWe7ev0F9z6VokxPABi9s05\n",
              "HRWBdjJ7l6ayQlkJvAmWCQC3szRFwcIN/Ek5Ww1UK+UG41i653AFUO2owq5E10Mcerod+umgHK44\n",
              "d6edzmKoPVzDIt4Uxx8lrBloIMyFPT7VJl0688I43c2SYy6d3jP+4weX1EHGjZAzc1xqpEYNmEWG\n",
              "dCqziE3Hb06qJ2ma6PJo1opUED84e1HrYm0ORjYbxIfGfszPlbSJ2CT+UIWVZgm2PSZwS4JVHzNj\n",
              "gkcN2V/A9+3gaPa7ecBccbn0sUgZFSsyyTm57UHfoWptQQlcPSLbNJ+JKAgzh+J72GzMQoIpkAZb\n",
              "6nxzUXQiaJsztMNfqjRVtpBpcOpsSV3oPJW4K3iAaJ51j87YfeSRBnUxlmw3xfrR7f78FVL00wgf\n",
              "ZC47WYYXUu+1xmV7FKzPId3Gw66EIWthnjkeMufXgUtFLMXejJMB/1Zq/FXVnH2pBaFXcatKlr6i\n",
              "o0i9+DQI5Z4Tb5J9WdlVbCmcQeset+R+3p6/2mHdYxUiS0uGErwZQy3UF7y7vtKunLkQ86/eYljN\n",
              "HcxBPAQmzfyX8tMCfPgBJqsrCp3QvR0iEe3O62zUPbq3jOZbHO5GatuDmVnaqOr4/+13zHeZdcHk\n",
              "MeCigi9OZ1qtqT58hb0upkhv1ay2Hj+mQ1PElRsz/uf5EulEz3Db2DvtpSlxElqEEF235/n/7njZ\n",
              "eKJ4Hx3cx1qTBK7VEW0ORWGRTEiFlSL2ku0om/CdbOI0aUurIHApAL9Zolz82R1S4BqCgdeS6Wmh\n",
              "GNq/Sh50J+QEE0mDkTdq4ye6s7QRVtrm+oJYQHL2lhQnMq5fw3VK4ZXjFv2k8/QXat+SsCNxF9Jd\n",
              "e5cZkr+w+uH3YAC8LQR1j661D+C5TXTO2O4431Ew7cSVYbyoD61hs8C5jWQiNuDprne5fqAioPba\n",
              "QlZgVfXqu8agslAn3JbzZLmUyTVuYfjnRbx2T90bMIP1DJYycftivn148wLLx/i/DAXOroE47+oa\n",
              "lxyWovCI6NfKvLH2o8AEZ6D4mR5uIFIDzTQ0X24ppRJsx0Rmpr4cwIdloizlDvvH/RBYMbM2Tn1Q\n",
              "SDivoNTVIp0CP/k7FZl2TB1BN/d2aehsN2jJGuig4Lu+WB78q9Qw3Z9M5BXaIE/40d/qhgE56jZs\n",
              "ChIQaMdf+wXi1OD8kOvp+EiH8kQeEaP/knpfFYcWYXrVBTsmt5MyM0619usJonJ1QqUTl+UPp7dk\n",
              "6WWgic8IhnFdiGdLPwdWkpIdffU0LjMcnexgtiQtJ6C2kgkvPTZmHHO9spJBMAhhDF7qbcXsY0sk\n",
              "EW4ZOlzoWx/gDRSJg1JW7cuvZtlVckoDu+uO4A+/gaRnFrpPa5hux8ubYnJ474EPpU3Ax0OLIWmt\n",
              "rWzWZ1OtqOz0DEF3cDIoPMJXd7JNKxNKfwcvG+6upRzdGfPjs/xlaD2p55Nl5VrZfQO9wLseBDtx\n",
              "9vLq193ft9S4gUsWog5QNlNvigL4161VcmO9x4Rb4n/0R/fW4HW+OZAZKGpS4lmk3mPXmDddomJT\n",
              "1Mcz3KR6n0lMV25Exbcr+8kUsjOO00GJ9Vk2ha1NQkMwj0w0WL/4xtjE+qRw5rbDpEu7Ni/uvJsA\n",
              "TydnD3m6wcwu5HBN8x2NaG1R8boYdQ8JlRYMzj50F8NcN+IQ7lRSUUTtiQsDnYqkKkSxQipLtd0S\n",
              "qtztiay6DNlWhwPJnDcp6QFvldsi2qLSvczVeBUIPU31jecOF+83IeEHu0PVkw8AOxugQ/KRd1hf\n",
              "tIeBRxIOxACL24hsfswS1EiHcrJ7UaQnjd9L0JpNPFR2zL/bjv5by+ipAbFSpVTSg5cYiBpWcNxD\n",
              "DkjIMzKnuXlm8l/7QhyVHVBH/bRd/Cciwf53AE3CkFUr2ORESrUymt9xMKfDIOr6RVr08jKDoAeO\n",
              "01sloE3XHCItNBps4kN4QctCI7QhV6xPqlCsOWRJw7QZK/BA71pN9kFk7cGCfIs7g0fRbGD9Hekz\n",
              "wAUVROy0yEA7+gyyTOaY2IIXukSUpo6T8R0xQpsgH07IiNyckpWofZDq01fSwD4jDYn82YkOXOCu\n",
              "5MOCLUfbqnn7PK7T/bNy0a4WZz/UPASq10GlKdA6TmizFZiM7MRCb4+GKHLelrLf/9dfhSWKqZ3T\n",
              "l3/oEpJCHhA//IO69Chx1YDX7rlERqU2SAGIbfC+fNizJBnHRYT6zDnSs0dDF2VSZOfeiLxVwfJK\n",
              "lybX+/UNBmq2b38lp6Db2ps63aaOrroNSVRd751ICHnwdeCYkbjLs8ioU6Iu6Vc9bBBAorNvLAHD\n",
              "4pfwEsiy+l48clGuynlyxiPoCdoamv79KXz33PfdhQS6ROyRhMzFo5ZptAct72NFIOlT2FAHJstW\n",
              "j/1aX+vvGrzdq6+Y+EkviyR7Wk/x9twnCpQj6m5sF7sUphu9W4NFE0L2l4SwUIbTlOJzlUrEKeYd\n",
              "2F8UR6BjXVWQtJK9EjN79A5/zb23iaG59fkgkHEHAYk8sYpNdZUxEiyDiMVjL6LUSWa4ZwUrlvR+\n",
              "jOScdbviy/Eksd1c918F5s9X4DY1FWfOVHo34KtgvkX9tEOMIO8aLVL2y9SYDEpKAzdDuroCJaWp\n",
              "zqtKPb9pH+zkn3BQCMC0NdRl1KuPtx75k6aLH8e5pJkhrtMYZbva/0vurlWFUsIoBGRsCyGneje4\n",
              "O0ZJ0s0EIO/eWrtz7/eBz7zrt+APhH/cZk/1a1T9sNO3CuZGK74wV4M4hI8Eho/9MTMSd6XewwqU\n",
              "NGA3O66Gi9lxrWrO7ZYc3NxRr1AEwdFLRQButM1kxxAyxe6DWghJnP7fVYNru0PTo6FDO6+fTQjW\n",
              "8BiGZ1Hdi6m45eyhnmdYFzXBm9kSs+mCGdadZKa2VGNFLgFobyG37+6zf1J/ifEurNLkwB1A9QI8\n",
              "KlGQtygvH9ShrFDW7gm4RljW9X5QW4BIjxF94Gy81pJ4a7Y8em4wkRnDlOeoKPzvhx9GijGbGZfG\n",
              "5eB29p4HUXO7qtuosV3PR08exr6iZ/V52fZwEmMhiQ9MRVsA5Ugey/G1/drBQ9vS11RQe63e/Nsw\n",
              "JgG0XxRgnMBMOo4UmugENA2HhR/MZyl7KnlmmkCWsTaeZZXPAhVKKPVAvBd1IHzYGTQJYeSA4VWO\n",
              "qlROCkvyEjgxPA4mdOqLvyEUiJyjO0cbzqcvkqnlEzNXeyC00u3i1jam+zepBRD1JOgqrL6iiCq4\n",
              "mZLifn+MC9OSt4E1eGlWu3VfagBH2UpQwZBpzyYZ8dd+O+zmAsmHRIZRTRV3xhV0DqQ8yi4BnJF/\n",
              "LQ5T4tnPesIdxOa6CjPZXK4TnjjsHRihNHC5rsAIZTZcJeaeE/FZ/fQ0XBJstxdd2qM1XB0UgAA5\n",
              "MY+4gobAy8aRAAAE9kGaIWxC//6MsITicnOfAD2SYdrKnIJDr4AAARsbx1oBZATWL18BJCfmkiVQ\n",
              "eXIcZTvRvIIFMayG9ZVlf9LLbabPRb+Npio5ojpKBDeKYMgE3WZ/4/OKBzLlXizQ5Q/pNg9V6De7\n",
              "I1nQfDXRIKVt5NwSBETGbQXFae2UrMKDY2MrUj+NuB90aAAePPJrH1tnV0oIrxutiWf4nMPgPiSy\n",
              "NQXVPArGLM3sueUQAX29PEvX55Ok85pbC/OROY0IWcwq7DyNenrH61h0PndfTf2sNqDBgU6poWyy\n",
              "dR71JoRsiPP2hCfvd8kDRFXAANzYDPJHcI4e1s7uD6VJGDy/wTbt+EhLajXMJOFoxnTmkUMHX5NY\n",
              "XweLgNmIkexlOHQv0oDVjqRBB6BT9SXMwm8rT6MpHS/3uM5Vbsy5dVDdOTgB1dUUCgoXgl6YGbQP\n",
              "QEAwY30Goraenz06wGMDuGM+JREb66f4DEb17Hf3D3TNQhJ7EIDf6sa3gMpmlPo6Ne5Lz560J6Cr\n",
              "7ju7rUkczooobDBLIqJvDi8zYuH3y8ks7O8Y12mUZV5JFcqV6tqKtAG9j0QzFTUsT8OTPVfRbxuT\n",
              "Xtn/kCP1JUxnZgmhvSgciX9lJyPo8p/sbbmJrsyWL8DS1kbHSaANzFpfEu4hRfY4LdcMmbnBDQlt\n",
              "95ZrhRi4ZRhCsmpsNN6P2W9qPtR1V0QRUvaw9oQy4sGR+XEJqqxMe1jVyxDnxrgE8srWArUZI/fS\n",
              "9f5IA8l+A48FoFLB6EgWzpQ0lUHwlXDI71UM1IABZLWAPAL7hhKwTkPaywy4xzlegxjdomqfRa5Y\n",
              "STiqhLBpa9OziqPWLbvMuzOMEhS/Ou10x3gTixbZzdLdUHz63bg6aX+FeL+1R4fyzd5N1LLLiwYE\n",
              "/+LRLjrqMDmtMLR55XgkKSBz2upzr+tAq8FxflRRDyCUd8Acxc2BuWx13IaeEWu32kfFJ5LR4c7M\n",
              "Xo56luPjuIb0h2zPJXXlt63bBW8C+6Z6AGBxQtdA1ukh68g8RvbeyL/06VLEGcRILguksE5jOoS2\n",
              "4Be2KZw1gs1XxlnWAscwyLk+7LHWq2mq7EaY4XbvWGkpPKHZvdmGsUHFvBoz4oHZykMHkvLzEzpU\n",
              "Bxf9FXaUf+L2a/7ug9LY4ObhJBaPb5/NiiNT8/K3RDdE/oD4zbzY485ND6DUEULyNgbk6QcR1n6C\n",
              "IL4gFl3oOUXEsEC34lbSYzpzQTaDMHK+i4zqgHGmAOwN1rS574Zqh7qmLVNuLoX5pPs26Yb6XYLW\n",
              "fb5EGdKRaXGBF2BEMkbcxzIdNcWOTukhpnNtArV1yNThGfTlUXUIipa1I/DeNtc7aGk2doXrl0PI\n",
              "9OI0gp0PWU2CH3RYWy8WBqIBO+SBKAumZiooV7LCRH85N9baGi+auwx+YVCoIYcELoMbXGxrn3Qu\n",
              "miZZYvpyQG702zYLpWspyfpYeOXuhgsW5g/Caf2vH5JQ/aet7DWWeJ/aO1IMqto3uTXWvGt2nJxE\n",
              "IY3tXOvwZf9R0g+d1EIL01L/7rGi6PJWNdpUhAM0P/ZFpL/+qJ1NmO2Gd0E6zwBWxv6sb1E+sxam\n",
              "cogm1dUjNxtJcbRSMgJBCTBP4OCehMIQcwIZjtb+6w98oC65Z8W+hzyRdFZfKuNhutxqSeYD/Ut5\n",
              "5iVXs4xkM5ToOK4/zN3bGjjePchXdzLH4hCD8mIAAAZWQZpFPCGTKYQr//44QB1ll/ABY+2IJiyq\n",
              "t4u7/WNdnOuFO8IE3TDR8EXm1iJnHTI5CgeBS9uM/T4xm2a6w1tu/Ao6s4vt9C2ZYmz2wRoAIuwu\n",
              "s/6mA+80rWHBeVJn0kEbUeYUNl0xbxVfGO9lZyLQVUGcg8yCxKOMQdZ2oX5bqkK5aqjToybKi/Eb\n",
              "YmoeIGyyriY4XEWOe/2GTXJ6tCf52QeJE9UmgE+FvWv61Uyk2N0kXuunxcvlJZpAfEJ9t+5wE9gy\n",
              "1ZOFRb5H7Cg3BC0p5TFQkrVGlMtygLoH6Tnvi/2msBTP/T4TeNwmDO7MQIOo46HA1ZLmn9vGo8eK\n",
              "JA8UEy0Vwzfh4bKlo762+15MzeCFyJmF/ORkIZoJiqEPaKwmjfqrcEVtXYEMS1S+bJ8YwZhsH3sB\n",
              "grv6Ok1CtZlblkhJ0XS3JGdq7OsoO9Te4KBIdtu+pqi9Xbl0GPubjQvF4n2pPSUy+NFr29zHclXj\n",
              "uWol9E39mAvFslfh/7GtHluL67e4Dfhei5SBBCrvKJdDrgJdP+1PhKeUrxs1ij3waiuP8B8PJFI/\n",
              "KJS6oppu5CP04i7APEhiYyaLrI7jRshojJWiRJQINgjamL5Z+JEHb7TfyEuoWwVv4MHOR5WYpnwq\n",
              "PyI6AQSDSkMEmt6HCVmiJiF+xYWvo3rkhBbhmC98XlLxE5MLg3E8WM3q6w9DUq6oez6ILVDc5bJZ\n",
              "3v/VRco1uxiSiijfJys3v4jUnNsV6XnfImC5wodojiGYcXl1A0OX6RWzWj5pLxvFPM6DGKuNm0E+\n",
              "nsk3kmOxZCuhBEIcO5p2/mwvZu3WJC+jOsM2MH2BL6tVxC7i0DBOalYrDuT4t1UBYBlGK2nguhug\n",
              "p9nM6f7FOa6M/gsSgr7DQbYrRV5IxEfzfKhkPYwowgEiM73mhXwRHpZ6wTeTK/Vb+7xnGHMT+3ua\n",
              "q7lxdh2y4rCtE26NNDG2ojB/HgQkCP4ps1N9x20HCh5acWkVD/U8h3xCnzrFm12+uyUwyHsv7LDU\n",
              "DxI99jPy91VFCvNBuVUEr5iqjtf9Gf1OAr/cLZY0wzLkHZ78JNMYk3TRvVYesa79lVaFboI90GHF\n",
              "pdQ9BCZkvijRN+KLoO7ppVArYDtSH3XPlRpRu2SidXze3sPImadWR4XMmQhCSDiJrRJixonAFVbg\n",
              "ElIoaL5YtrF99truix/l0mX1wO9Xtg+tvD0ghLJWvFo0nHDTgq9ksobgJt7nxtQAL4NigKgwV4Di\n",
              "kXlsWfOv/qld5XJLDydH5XoEJyE+u6+A7byQKwXVyHMAYl/TWhRWyzuABzSszwiccDaiDPkan8fs\n",
              "N7Gj1ykc+J+adouMO8WK/EE6MKgL8lLb6dCJ0FtHUNBvzNzC+xM8lpSueCm8ybbx69v86jKErkvL\n",
              "HHav3nyi9fSjUqoifD06jMiTCOHZ1PZOgqTQMMpPGwIEcPhL7BYSqtQ5S1YpPyj1EXBBXpU3ArwU\n",
              "7RsLVZKDOitIhsIJ0tzGxj0f7lV7Eky0tm1ZHvPH2Upzc4wUVgc/wdT7x+NYciNY0uBr4uBlLTP9\n",
              "UOuZ5Km+Ml/1ToSXteTyRJlUBD6n5PVAP+NqYkNcFgDW/l/jrJWZSBr3JFUjtPSa34eKAT7+jKbz\n",
              "ne3u36EQQMx6g3MTpQreA0gsurXrxCUe9p2ODbqg6kNOjMqbjVK97qhcF0MGbzU9d/2RQKtj9Pd0\n",
              "dfKWVf8GLFNiI8mWF6WZ5DfQE6ac48NdJSIKkv7K8Sk1uyv5TCp5sreFY/8CmObrUHYj9CxxwEC9\n",
              "7rGyi3u4085+jrlgzSJctEIRhMkez9Nr873lxDoMM1EMZbVNA3bUyR3pwUfuEPtJb3uDFgBKnoEU\n",
              "ato8tCTET+J3kods9NGYoQ41AufCDQb2MTEluHb8tDDypZTUPrE2HjsSD574NuN3GTP0/8rNdd7w\n",
              "grsNurmcu6/2KFNaWsyLZmpitDO6UfR3Rote61TMZxMvzEmOkT2rTtEUEu+6Z7W+z7bqXXUYK9GH\n",
              "zEKEaR5SKJuCiRzwOAUOFyTwD8+b51yCYOfjJ0VsUZSkIPMDvoG5Du0hY6YDmLglp8BEXD0HTDD7\n",
              "MN0dtVBWf7chdSZk+KUK20j88bnEMIbZaQKX1n2CeGch3xYk4cYd7xMrsz0C/EmwtH36rczxgFYf\n",
              "NUEAAAKvQZ5jalPCPwUz3lPShdPCFLRp1cxI4JygPtOLBaUVZzmlqGNzsVMVkRrkGw7jyf3Ut5BU\n",
              "Hd2oB8274AO0NI4TMBrVr+4nyX5ow4d0tSuD9iGT8n/rdcb1uIYMVivPRifgLDPFuvpXfYYLv6TJ\n",
              "UbSr3oyOPG/JFgLznUQoEEjTPfPaYXsxU6RtrZcWCeCkOmoKZ4BAPQUzp1WjMaIRwyvvygt9+fK4\n",
              "/6+NnjFhHxpa16mV95q5tU8zSv1VK3PDeQjK97//oF5rJy1tWaSPtzM8XXSbKWgVn1DloSsG+zWo\n",
              "BhFHIB0PqAFdsfrKuVu0VLXnwec2XlZ2prZpupQIrQIY8USGZCg7NeE/QHrazjucWacu1spGxlH6\n",
              "T9/fI8TMsKM2xFytlKvoBzRvbQSKh1qFWfHdCkkCeihkvq9C3YB1iWHcrg5TixXiJPi2xuEaeb/k\n",
              "M0COkGUjh5H0hL41tUpZnu2mYsM/RaeK/voOeC38iXm5eP8gPScZ0pSZVB4zvtogw9TA0vMCMVlg\n",
              "mNHm4FFLyZ/QNJCQIcMHznZ7JRukAUv4yQJqmoW7roIU3YaDUgQsPzIveFFe/IgpdVV46TI+XpDi\n",
              "izt16OKPhWWnkCzGpOVNd/VW7BvDvBj+vWSxpYBsNE8nxLxbNGv1cJTRX5EbZAXNEvNsfIwQZvU4\n",
              "n71QMyQ1O3Zpn7bCxuuSUXUseazh5cTA0RFVs2/Or7PcO6M+/Gy5xrxIbDWwxkWd/5Rc2VKU3U7d\n",
              "8iDRRj8qwrDVrXHw/A9HVWapacq34L19Pprk3ERj7bN7tBGn1AvAN1iqAVAY4emyTN9a6D9Tfn0R\n",
              "Dv1fiQ04sNUlRpZVyVfdsKWLkG6ijrNLK8ParFL89iBOIqrmavBEjW6mZ2AR0UOKc5SoR1en+JCw\n",
              "WGxD1744a17AAAADvwGegnRH/wfikLLFo1TkS8AAAAMCIZUa+DTydVoYzx1mAIuKwaxEDmcRb+24\n",
              "pHc6xw1y/0X/ZVG5LZDrSdLx0i1qRRegXAroxySZsmQELLwd5uxxJBhzudBWa13hc3bLQhJLQ3LM\n",
              "uBTbuTQjXk6cbXIEoQmTgAvHL2ZYFKpuF/orEsm+eKmLTOwsNRB5VOWyitE9kf+HLdWYf21Zidm9\n",
              "8nqQyyPUh9RX6khHxGBhxkrV1fsyR3fyeA/IunIM0rIj8mt6Gnjd9khePenOFAWC1ldq69okK+s1\n",
              "8PuRctLrmUBOxQd7oD6w1VdmPxMyEk4QMtTs+C8N7UmADkUeb1W5X/SNBU5PDNsyb4dncIvpQ+Uz\n",
              "oCeTYynfvY4F+ZVqmoBfI6qRJv9LVY6pONeiNAXuQWB/9QNC76PtIz4H1DFFmcXTuUt/RPpHnZG/\n",
              "xqtEG9MEPjruW0atFdY1VfZrucjE/V5Xi7EgtkWHhi8DCf8j5NQvbz4cm6Iw8CPhceAoFeyo2ryQ\n",
              "FdM6ZLatyHXwJdTerjSO/ikBrTbDIIGoRJpqAfyjLA6sUPFeqAXEBxYUh2D8OiSsFfMD2YN4IeT2\n",
              "RMFrKMQkSu9L95Fsxqse1U3JlLGynTffJb1waiMfLS3WpBGRCwbhtJrtNvc43cX3iBLlbwM6wdBT\n",
              "0i3IESl6nTIFj6kxvkmaQVHKK+YkRsQiDVCP0ly5mKoWOOB4zKiiQ5+ksqiq+1QjpOG8LpMvnFSB\n",
              "rK2rBrYztmaOpZJh3aGxwLwXgjT/S7xhVyBk0i3FlOHoFpnQl/88p4PrmNpK2ZzFjj57TLsiQoW6\n",
              "Zcq7x9Y/CDov1PF+hgCc0g8Pj4spu2+NdHzVjDWw1pHX/sSXpQzfJxNZeudD5M7H47LqvPlF3jpX\n",
              "ejUI+cj2hg443htdjAbnsBfcOnFr9WOBAJ+A2MpSxq///MHOWxrG5jAw7uzprw0f3fXXiko6rWgS\n",
              "dSoVE6ycJXlvAED6V96jvJ1kbTzIdmqY5Q6uL2NyKItKKbhF1pfs/OWiEzF9Yg6Utd+SvNhBBix1\n",
              "fU2Tzit1gvVkP1NsUlU66u93NIH0UXbQUFDBAGPPsoImLz9eduEfm6Ycv2u/C3tWi1hlIIQDquBC\n",
              "etdNfkjMHbhqD8U+WAAiOy/VneP1Z8/bbM0/0A4bskPBg9njeyhoyOgoQQBI0kcZm1lys7qv4+rc\n",
              "k3zKr5NZ2GSVpcSXlG+q7njChI9sjH32PjSuT4yiBJrLXrYupORlrQuWT7yGG7R+/Lm+hktQCTtl\n",
              "nb9xAAABlAGehGpH/wfqQGBj0O6iYbEAAAMAAID1TwkRFpjMaFNXAC2dpONof3WE2U28UixCqIY+\n",
              "KdTwZmt79MmIL3vpNAZ3icAoqWLyhQnVvLcLk+zIdvE5sOLUyMzfqY5bmAl500ZW0lLOZ7W+hUM2\n",
              "NRxSfVOBifspf8zs+5Ho3EkbaNLeg+na7Bgb1eXwDimebIr0DxM3P7YHnpJwQpjs+9eK0CBfBKuo\n",
              "pTW269b9BO7cDt0zossPTkFTAd12naifTvv0FZvyNSzMvJTIlvNiqUpqDOxj9GKBdGxHQ09xmzKd\n",
              "K6g8biAkBxn7yIVhxx7qAOBV140HKCzuL1tS+U2n/rqp3s7n2PDfC7JI/wH5ncS8bOabkZU4eg11\n",
              "U1jgzgejVrj2Kbg+/v+ZdI2yjQ5kXK/cji7UwkULO9tPpO16wMNCthrdpXNY37KjiMkAjZgdWgBR\n",
              "S/syysJgC8Bt736lj4IWwQZCbWVkRVhhfIXcMlPwm54cC7+Mesu/+k8PI1eX25SM4qhsf3p+G86a\n",
              "8DRz0Pjqx82dphlRAAACwEGahkmoQWiZTAhX//44QZ2pFeZ8sjMf4IRt0jWgAAAFD9aplg+RS0F/\n",
              "8YBNQXLlNMhwFmg7lfz6LVdpX0BCLBq4lo32zS4x/W9SJVTTayrcogKWyzzr0y4oAYm/ub9obXMk\n",
              "kOBPBJDbovrsu1+nSJWaDZZmGvzTbJqcyPjs46JcUxnx/gX3zUWGcp5hKgZhaek+/J2pYeHEUntS\n",
              "Y7zOvgh3hP9afr1czn0TkuWaZHwrZ/N6Aq/2moXJDUfEDOBadrrN1JvkQ/bV/y8BO7Wuz7el2QC1\n",
              "fs7DVK1vjiAE92bVqiyZ7j/U7A68xQzlHoF9RNyP9ZX5f9Xs7ytwbcMpySHDxRTEVkCqdrI6Ff+A\n",
              "iJTfEQFl3E5QJxjiAFbWEPGKH1zYvU6SW6oOrNLd7d+S5KGPKMGiQJGeYRdMs93apQ/WbucsTXXc\n",
              "dRHIeiIocn0xBmWrCNwSAEGgbDBefTgIsX2dtFO64Pi0EoOqbC+rzoae/7rCvstzYVy3k4dG50I6\n",
              "/yPxy/l8kkHN0RWqb4afH10PvxvANisRF/s4G1IDdwSFeFbglkefNi3HLX4hiHIvky4McTD3Yz/q\n",
              "igLkCbuZ+FkiG2/+ryKwyt+EtaS6LM86ecdt95uguccPehF4rCBedlL/iqpJ+cCLUzOahpeyyIZa\n",
              "uo3WrPLH4kwItTU9bIOgtr5RTherw7DeEUW8/ERXfQRIimlFz9hDmgNzJ5hWuqkIDZD5eJqGcM98\n",
              "3NuzGNS1ehNJ/XMvCV2p9t6lNkpuaiRI2tIN31AJo5Jylv0pHhpw2PiRgOLVhj1/ZrnDh42wXOcm\n",
              "kp1dMiJePRqL69unq/9PYxk3S1D3Ywsn7sQTEfbAh2AK1RsR+FtvK3dVOSE2glBGE+DxQLUQeptt\n",
              "ilIXpYD1B3RZKpN+ztzLF770pncMetV0IzqVlZbTJ9oULPSBAAABqEGap0nhClJlMCF//oywABU6\n",
              "masuATV2xr9KfS2Xoa/DBT2A89dxMQSxaGF1MxBgwAIOF888sq6SAIMbEcBIiIxnhLP49cXcomq+\n",
              "wKjXMs+K8HOhapcPJgDwf0YOPAlefQmH9rInh5xJ+xfIB1jVZ0HqBT4h8VLWLPgDkHMJ3IIskeb+\n",
              "r9Vyad47F7JGLGZq5XPVZrBVaTOHGvtH/sggTBvk7wf/sEONhOga4NoPYTjTSe++e60B48Qks9AS\n",
              "WpXNajvHGsesRHNpfnC+9+dxzIFr6syJgOCdATqhHd7aCNYxewGTA63gx8eEwG6Ae1KJ26h3pi07\n",
              "gfE/DMCKM1BlaVuTehCD2gZ96gyR2vf/A1vjIuND+lR75sH017dyFNcBINwolLWqKB6jpauXpjZ3\n",
              "gdbFrXWz/7SC+JN2NJMN0GNl7Jx2OMmr2DmsZYpjHhr0O8xREdbTAVFqC2I8U5Q5uIbWZn2Y8sVy\n",
              "mxVfRZKZFEuQB/iyypVWyq3wv8GKxOvltmewRi3UBxMy5Vpc1N6RdSoFHB+lZAFt1rtCSURYKin2\n",
              "GvN7L9kNDn8AAAC6QZrISeEOiZTAhn/+nhAAFQPQwwA6NfnFvXiYyVcoWqixNWnFOf1amrAPgHer\n",
              "UDm86Fd7kFqeqOdCfhV8m3oHPuVdvmq9P+sO6dNgdU5b0NGi++vDI19jD1NKJA36IpweuPvT6o9h\n",
              "29d136FT5luyymWxsCbuSuCVMCWReDpLpETh8dCXq3MI7A7fUtP8mhH1TrZvnORc93mLnv/fpNQY\n",
              "FvGGKdoRYpWnT85sCauSgdYePTCCase/BOuYAAAAaUGa7EnhDyZTAhn//p4QABT8iyAHLLGZHHD1\n",
              "BFcPys/C8+WrmXlfk1V4qU0FdpgAjbAwkJD1wNUkSoNWjc8Cssb5A75YSPZ4T8C7Ih6XhVFLl6yA\n",
              "EAoPEcKO+V5SULJnUoCn9dbkCc2DNgAAABpBnwpFETwj/wAAZgAAUs6i7M4K0+jvB/ksLwAAABcB\n",
              "nyl0R/8AAb//PcbxFXV0nPMGMhAvkAAAABQBnytqR/8AAb//Pce2VL7t1WrGpAAAAGJBmzBJqEFo\n",
              "mUwIZ//+nhAACsOuVRcgEQFZus2xNdx4CIbXgJ5t+j1ZLoiFJpabNfrurae8FlcAJevw3ILNPHlG\n",
              "CERNqB6beu/FZRl808NXuMCn//tmASjX6k6Rwb8+NPDoYQAAABlBn05FESwj/wAAZzecPY/WuQI6\n",
              "gArQXzRBAAAAFwGfbXRH/wABv/89xvQ6ZgaD3zvjrmJBAAAAFQGfb2pH/wABv/89s7aegHVgJZdI\n",
              "BAAAAB5Bm3RJqEFsmUwIZ//+nhAACserNS0kn6yAhd8JoO4AAAAXQZ+SRRUsI/8AAGc3nZL+QyQt\n",
              "iLZnI+UAAAAWAZ+xdEf/AAG//z2y8bxg4qmeI1xjqQAAABEBn7NqR/8AAb//PO3bOC/34gAAABZB\n",
              "m7hJqEFsmUwIZ//+nhAACserNEXdAAAAEkGf1kUVLCP/AABnN38okqng9AAAABEBn/V0R/8AAb//\n",
              "PO14sFXltQAAABEBn/dqR/8AAb//PO3bOC/34wAAABNBm/xJqEFsmUwIZ//+nhAAAAdMAAAAEkGe\n",
              "GkUVLCP/AABnN38okqng9QAAABEBnjl0R/8AAb//PO14sFXltAAAABEBnjtqR/8AAb//PO3bOC/3\n",
              "4wAAABNBmiBJqEFsmUwIZ//+nhAAAAdNAAAAEkGeXkUVLCP/AABnN38okqng9AAAABEBnn10R/8A\n",
              "Ab//PO14sFXltAAAABEBnn9qR/8AAb//PO3bOC/34wAAABNBmmRJqEFsmUwIZ//+nhAAAAdMAAAA\n",
              "EkGegkUVLCP/AABnN38okqng9QAAABEBnqF0R/8AAb//PO14sFXltAAAABEBnqNqR/8AAb//PO3b\n",
              "OC/34wAAABNBmqhJqEFsmUwIZ//+nhAAAAdNAAAAEkGexkUVLCP/AABnN38okqng9QAAABEBnuV0\n",
              "R/8AAb//PO14sFXltQAAABEBnudqR/8AAb//PO3bOC/34gAAABNBmuxJqEFsmUwIZ//+nhAAAAdM\n",
              "AAAAEkGfCkUVLCP/AABnN38okqng9QAAABEBnyl0R/8AAb//PO14sFXltAAAABEBnytqR/8AAb//\n",
              "PO3bOC/34gAAABNBmzBJqEFsmUwIZ//+nhAAAAdNAAAAEkGfTkUVLCP/AABnN38okqng9QAAABEB\n",
              "n210R/8AAb//PO14sFXltQAAABEBn29qR/8AAb//PO3bOC/34gAAABNBm3RJqEFsmUwIZ//+nhAA\n",
              "AAdMAAAAEkGfkkUVLCP/AABnN38okqng9QAAABEBn7F0R/8AAb//PO14sFXltAAAABEBn7NqR/8A\n",
              "Ab//PO3bOC/34gAAABNBm7hJqEFsmUwIZ//+nhAAAAdNAAAAEkGf1kUVLCP/AABnN38okqng9AAA\n",
              "ABEBn/V0R/8AAb//PO14sFXltQAAABEBn/dqR/8AAb//PO3bOC/34wAAABNBm/xJqEFsmUwIZ//+\n",
              "nhAAAAdMAAAAEkGeGkUVLCP/AABnN38okqng9QAAABEBnjl0R/8AAb//PO14sFXltAAAABEBnjtq\n",
              "R/8AAb//PO3bOC/34wAAABNBmiBJqEFsmUwIZ//+nhAAAAdNAAAAEkGeXkUVLCP/AABnN38okqng\n",
              "9AAAABEBnn10R/8AAb//PO14sFXltAAAABEBnn9qR/8AAb//PO3bOC/34wAAABNBmmRJqEFsmUwI\n",
              "Z//+nhAAAAdMAAAAEkGegkUVLCP/AABnN38okqng9QAAABEBnqF0R/8AAb//PO14sFXltAAAABEB\n",
              "nqNqR/8AAb//PO3bOC/34wAAABNBmqhJqEFsmUwIZ//+nhAAAAdNAAAAEkGexkUVLCP/AABnN38o\n",
              "kqng9QAAABEBnuV0R/8AAb//PO14sFXltQAAABEBnudqR/8AAb//PO3bOC/34gAAABNBmuxJqEFs\n",
              "mUwIZ//+nhAAAAdMAAAAEkGfCkUVLCP/AABnN38okqng9QAAABEBnyl0R/8AAb//PO14sFXltAAA\n",
              "ABEBnytqR/8AAb//PO3bOC/34gAAABNBmzBJqEFsmUwIZ//+nhAAAAdNAAAAEkGfTkUVLCP/AABn\n",
              "N38okqng9QAAABEBn210R/8AAb//PO14sFXltQAAABEBn29qR/8AAb//PO3bOC/34gAAABNBm3RJ\n",
              "qEFsmUwIZ//+nhAAAAdMAAAAEkGfkkUVLCP/AABnN38okqng9QAAABEBn7F0R/8AAb//PO14sFXl\n",
              "tAAAABEBn7NqR/8AAb//PO3bOC/34gAAABNBm7hJqEFsmUwIZ//+nhAAAAdNAAAAEkGf1kUVLCP/\n",
              "AABnN38okqng9AAAABEBn/V0R/8AAb//PO14sFXltQAAABEBn/dqR/8AAb//PO3bOC/34wAAABNB\n",
              "m/xJqEFsmUwIZ//+nhAAAAdMAAAAEkGeGkUVLCP/AABnN38okqng9QAAABEBnjl0R/8AAb//PO14\n",
              "sFXltAAAABEBnjtqR/8AAb//PO3bOC/34wAAABNBmiBJqEFsmUwIZ//+nhAAAAdNAAAAEkGeXkUV\n",
              "LCP/AABnN38okqng9AAAABEBnn10R/8AAb//PO14sFXltAAAABEBnn9qR/8AAb//PO3bOC/34wAA\n",
              "ABNBmmRJqEFsmUwIZ//+nhAAAAdMAAAAEkGegkUVLCP/AABnN38okqng9QAAABEBnqF0R/8AAb//\n",
              "PO14sFXltAAAABEBnqNqR/8AAb//PO3bOC/34wAAABNBmqhJqEFsmUwIZ//+nhAAAAdNAAAAEkGe\n",
              "xkUVLCP/AABnN38okqng9QAAABEBnuV0R/8AAb//PO14sFXltQAAABEBnudqR/8AAb//PO3bOC/3\n",
              "4gAAABNBmuxJqEFsmUwIZ//+nhAAAAdMAAAAEkGfCkUVLCP/AABnN38okqng9QAAABEBnyl0R/8A\n",
              "Ab//PO14sFXltAAAABEBnytqR/8AAb//PO3bOC/34gAAABNBmzBJqEFsmUwIZ//+nhAAAAdNAAAA\n",
              "EkGfTkUVLCP/AABnN38okqng9QAAABEBn210R/8AAb//PO14sFXltQAAABEBn29qR/8AAb//PO3b\n",
              "OC/34gAAABNBm3RJqEFsmUwIZ//+nhAAAAdMAAAAEkGfkkUVLCP/AABnN38okqng9QAAABEBn7F0\n",
              "R/8AAb//PO14sFXltAAAABEBn7NqR/8AAb//PO3bOC/34gAAABNBm7hJqEFsmUwIZ//+nhAAAAdN\n",
              "AAAAEkGf1kUVLCP/AABnN38okqng9AAAABEBn/V0R/8AAb//PO14sFXltQAAABEBn/dqR/8AAb//\n",
              "PO3bOC/34wAAABNBm/xJqEFsmUwIZ//+nhAAAAdMAAAAEkGeGkUVLCP/AABnN38okqng9QAAABEB\n",
              "njl0R/8AAb//PO14sFXltAAAABEBnjtqR/8AAb//PO3bOC/34wAAABNBmiBJqEFsmUwIZ//+nhAA\n",
              "AAdNAAAAEkGeXkUVLCP/AABnN38okqng9AAAABEBnn10R/8AAb//PO14sFXltAAAABEBnn9qR/8A\n",
              "Ab//PO3bOC/34wAAABNBmmRJqEFsmUwIZ//+nhAAAAdMAAAAEkGegkUVLCP/AABnN38okqng9QAA\n",
              "ABEBnqF0R/8AAb//PO14sFXltAAAABEBnqNqR/8AAb//PO3bOC/34wAAABNBmqhJqEFsmUwIZ//+\n",
              "nhAAAAdNAAAAEkGexkUVLCP/AABnN38okqng9QAAABEBnuV0R/8AAb//PO14sFXltQAAABEBnudq\n",
              "R/8AAb//PO3bOC/34gAAABNBmuxJqEFsmUwIZ//+nhAAAAdMAAAAEkGfCkUVLCP/AABnN38okqng\n",
              "9QAAABEBnyl0R/8AAb//PO14sFXltAAAABEBnytqR/8AAb//PO3bOC/34gAAABNBmzBJqEFsmUwI\n",
              "Z//+nhAAAAdNAAAAEkGfTkUVLCP/AABnN38okqng9QAAABEBn210R/8AAb//PO14sFXltQAAABEB\n",
              "n29qR/8AAb//PO3bOC/34gAAABNBm3RJqEFsmUwIZ//+nhAAAAdMAAAAEkGfkkUVLCP/AABnN38o\n",
              "kqng9QAAABEBn7F0R/8AAb//PO14sFXltAAAABEBn7NqR/8AAb//PO3bOC/34gAAABNBm7hJqEFs\n",
              "mUwIZ//+nhAAAAdNAAAAEkGf1kUVLCP/AABnN38okqng9AAAABEBn/V0R/8AAb//PO14sFXltQAA\n",
              "ABEBn/dqR/8AAb//PO3bOC/34wAAABNBm/xJqEFsmUwIZ//+nhAAAAdMAAAAEkGeGkUVLCP/AABn\n",
              "N38okqng9QAAABEBnjl0R/8AAb//PO14sFXltAAAABEBnjtqR/8AAb//PO3bOC/34wAAABNBmiBJ\n",
              "qEFsmUwIZ//+nhAAAAdNAAAAEkGeXkUVLCP/AABnN38okqng9AAAABEBnn10R/8AAb//PO14sFXl\n",
              "tAAAABEBnn9qR/8AAb//PO3bOC/34wAAABNBmmRJqEFsmUwIZ//+nhAAAAdMAAAAEkGegkUVLCP/\n",
              "AABnN38okqng9QAAABEBnqF0R/8AAb//PO14sFXltAAAABEBnqNqR/8AAb//PO3bOC/34wAAABNB\n",
              "mqhJqEFsmUwIZ//+nhAAAAdNAAAAEkGexkUVLCP/AABnN38okqng9QAAABEBnuV0R/8AAb//PO14\n",
              "sFXltQAAABEBnudqR/8AAb//PO3bOC/34gAAABNBmuxJqEFsmUwIZ//+nhAAAAdMAAAAEkGfCkUV\n",
              "LCP/AABnN38okqng9QAAABEBnyl0R/8AAb//PO14sFXltAAAABEBnytqR/8AAb//PO3bOC/34gAA\n",
              "ABNBmzBJqEFsmUwIZ//+nhAAAAdNAAAAEkGfTkUVLCP/AABnN38okqng9QAAABEBn210R/8AAb//\n",
              "PO14sFXltQAAABEBn29qR/8AAb//PO3bOC/34gAAABNBm3RJqEFsmUwIZ//+nhAAAAdMAAAAEkGf\n",
              "kkUVLCP/AABnN38okqng9QAAABEBn7F0R/8AAb//PO14sFXltAAAABEBn7NqR/8AAb//PO3bOC/3\n",
              "4gAAABNBm7hJqEFsmUwIZ//+nhAAAAdNAAAAEkGf1kUVLCP/AABnN38okqng9AAAABEBn/V0R/8A\n",
              "Ab//PO14sFXltQAAABEBn/dqR/8AAb//PO3bOC/34wAAABNBm/xJqEFsmUwIZ//+nhAAAAdMAAAA\n",
              "EkGeGkUVLCP/AABnN38okqng9QAAABEBnjl0R/8AAb//PO14sFXltAAAABEBnjtqR/8AAb//PO3b\n",
              "OC/34wAAABNBmiBJqEFsmUwIZ//+nhAAAAdNAAAAEkGeXkUVLCP/AABnN38okqng9AAAABEBnn10\n",
              "R/8AAb//PO14sFXltAAAABEBnn9qR/8AAb//PO3bOC/34wAAABNBmmRJqEFsmUwIZ//+nhAAAAdM\n",
              "AAAAEkGegkUVLCP/AABnN38okqng9QAAABEBnqF0R/8AAb//PO14sFXltAAAABEBnqNqR/8AAb//\n",
              "PO3bOC/34wAAABNBmqhJqEFsmUwIZ//+nhAAAAdNAAAAEkGexkUVLCP/AABnN38okqng9QAAABEB\n",
              "nuV0R/8AAb//PO14sFXltQAAABEBnudqR/8AAb//PO3bOC/34gAAABNBmuxJqEFsmUwIZ//+nhAA\n",
              "AAdMAAAAEkGfCkUVLCP/AABnN38okqng9QAAABEBnyl0R/8AAb//PO14sFXltAAAABEBnytqR/8A\n",
              "Ab//PO3bOC/34gAAABNBmzBJqEFsmUwIZ//+nhAAAAdNAAAAEkGfTkUVLCP/AABnN38okqng9QAA\n",
              "ABEBn210R/8AAb//PO14sFXltQAAABEBn29qR/8AAb//PO3bOC/34gAAABNBm3RJqEFsmUwIZ//+\n",
              "nhAAAAdMAAAAEkGfkkUVLCP/AABnN38okqng9QAAABEBn7F0R/8AAb//PO14sFXltAAAABEBn7Nq\n",
              "R/8AAb//PO3bOC/34gAAABNBm7hJqEFsmUwIZ//+nhAAAAdNAAAAEkGf1kUVLCP/AABnN38okqng\n",
              "9AAAABEBn/V0R/8AAb//PO14sFXltQAAABEBn/dqR/8AAb//PO3bOC/34wAAABNBm/xJqEFsmUwI\n",
              "Z//+nhAAAAdMAAAAEkGeGkUVLCP/AABnN38okqng9QAAABEBnjl0R/8AAb//PO14sFXltAAAABEB\n",
              "njtqR/8AAb//PO3bOC/34wAAABNBmiBJqEFsmUwIZ//+nhAAAAdNAAAAEkGeXkUVLCP/AABnN38o\n",
              "kqng9AAAABEBnn10R/8AAb//PO14sFXltAAAABEBnn9qR/8AAb//PO3bOC/34wAAABNBmmRJqEFs\n",
              "mUwIZ//+nhAAAAdMAAAAEkGegkUVLCP/AABnN38okqng9QAAABEBnqF0R/8AAb//PO14sFXltAAA\n",
              "ABEBnqNqR/8AAb//PO3bOC/34wAAABNBmqhJqEFsmUwIZ//+nhAAAAdNAAAAEkGexkUVLCP/AABn\n",
              "N38okqng9QAAABEBnuV0R/8AAb//PO14sFXltQAAABEBnudqR/8AAb//PO3bOC/34gAAABNBmuxJ\n",
              "qEFsmUwIZ//+nhAAAAdMAAAAEkGfCkUVLCP/AABnN38okqng9QAAABEBnyl0R/8AAb//PO14sFXl\n",
              "tAAAABEBnytqR/8AAb//PO3bOC/34gAAABNBmzBJqEFsmUwIZ//+nhAAAAdNAAAAEkGfTkUVLCP/\n",
              "AABnN38okqng9QAAABEBn210R/8AAb//PO14sFXltQAAABEBn29qR/8AAb//PO3bOC/34gAAABNB\n",
              "m3RJqEFsmUwIZ//+nhAAAAdMAAAAEkGfkkUVLCP/AABnN38okqng9QAAABEBn7F0R/8AAb//PO14\n",
              "sFXltAAAABEBn7NqR/8AAb//PO3bOC/34gAAABNBm7hJqEFsmUwIZ//+nhAAAAdNAAAAEkGf1kUV\n",
              "LCP/AABnN38okqng9AAAABEBn/V0R/8AAb//PO14sFXltQAAABEBn/dqR/8AAb//PO3bOC/34wAA\n",
              "ABJBm/lJqEFsmUwI//yEAAADAbMAABsjZYiCAA///vdonwKbWkN6gOSVxSXbT4H/q2dwfI/pAwAA\n",
              "AwAAr9Z/COGrMBP2MYxRE/wVD2HBzRiZZXhKxq/oxh7waz/0oX2D9ZYrJ5epTok6ICamdlgLoKjj\n",
              "+rXgLaEfV8Ww4aJmUiGpzOBNcAAAAwHu+6oQ7sBf9ub81mQELzX0JdO4cXDYPqS3vbw5cnvSZxrb\n",
              "cpCysxq09vzhooKRXS/0Ai58Uy0VDrot2lL34U6JqLymGdHm8XqsO70B7dL67iwnO5sjBh6pzLKR\n",
              "6FLAaxp/uK2SKrMAbsYagUymz/hCXTU2dRWJ1HY0JcFRPpXbTzjmXiZ8Z9Y8zmmxO4IDlXlp0rSt\n",
              "36UrV0kc9u9T7tWFbbIh0XH7OiiW6nmEWiv3ApxEIHS6oag2KQM9RdSWfTCieweS1UxH19h5BTNX\n",
              "oSqpDisMjCrv9hqG3rGIzfNr28iqjmn1xLNapDDuotx1+edaPFEHssDbnGik/yz8qk5PwIv2imPR\n",
              "6Gp7cDNWBIVCXsADJtQxWrKSKgBbrchIlew+mRF3NaYO7PSnpL9dm/MOykiWdOB7mkTEYLkzbpuG\n",
              "AZuKPRFLDqDzicg0h3Dr+9B920EABKq7Go4Df16RhmBVIQFT9Vj2jEPnSA/fRQ7rkN2qyXfLFYso\n",
              "Qy2hRhAoIyFiOnOwYAK5VJMUVFJ2LtTTuN342PoJkEVAk30z2U8/+XyfUACLsBfq0p3WoDQRQRyc\n",
              "fyRmtu1pFaz+0+tYxB2wvOSbzl53/DfoFoo3IzLcIQYM82ug3PpzyBJAkysSgx5cU4CCTaTKMY8A\n",
              "Moju9bqU8hEIYovBPaaCRDmLUgisZN4Jzcwqo21WkJwKC+VYWw1djfMGBEh3yXIIbdrKOBD9G2VF\n",
              "pmHYuk7UZok39kj8/2TNxrqa29kAUWwMgFj/hIb5eRCeJcAZUGUgNyZCxUTJiQoAdUm5LnT7IYAA\n",
              "KSKvIOSDIH7YdujoYK5LwQyxBqstkk7ot4zi4Wmluk+r6//pWuRNAcl+KFj8ooVXiVGNIl7fWRYQ\n",
              "14p/LzFPSlos8x4Zi3PO9J6oxpscFqL2fSvbYc4hyeQALRFAhSm/LE/AyEbnxSGaxsPE8rVnc2JB\n",
              "kfRRLEmEvOYroyYKireHcqUjQE0dp7w/K9XxaFKmw+3TdGEqfj9KDF1/lbhmE98P/3nFXpuLDmcT\n",
              "+bJ2N6EWu9rJ5WzSkt4C2Lpj1YnV8GMw8N8yPoze/ekTDxvlJp98MFXJAGg4P+AYrKJTToeAaFkF\n",
              "6HUPtsy9J5UaQpMPbffC1QztsRePoufu+Kv9hYUbu64leq/xSZQpKX0Lbz5KuHpCL+coM11mnbjo\n",
              "RpM0UH72HOwKcuCgWMCMu9WtdezhjycJR1clT/qDj1onW8OYOCLdadNrVaErweJBNQkv/oTooJB1\n",
              "5Qp23e6x2lfKCrGpBcnupZOg9tcalVDEiVxHg0LzycNB/EyNBWxsdQx0Rf0hSW61K2cEWuPDsRw2\n",
              "3C2t89XDE8ldCP1XE/d5fT/m1nrfGLV27IcWV2jPCWUc55PPb8zD5sRlCKaw2Y9SfDau5Yv/29Jo\n",
              "XHn+fX0MgBO+NmV3Fz+DGYGhkRWntHb9Be7YzJSFavoFXjB1sraZvU83zCGt1Uj0G0WP6gFbo107\n",
              "GCRaRccR+6pFTV6wP47tkUyALSsJp8pSy5WiWc28Wf9djsxe4QOeeH/h7nB/g7N3fMwO86VPtqtf\n",
              "W3AeVFFuRC9Zzl0asKQe2EbaHzfyToi+XR+IUkceWrWrIwtykycZ+uACCYLHoLAAYZrFG0VNjkOr\n",
              "B4zWWpRkPvHMNDgqeD3aRi0fBb+cPgeP71DBgLvaBQZJd8TCmpJLOHKUk0KfT/QAQxwZfsE/B5Cb\n",
              "lVmslCSgJtiOHyxhCHjDEvZs90knJ4YhLQhxDip+kQuZMJ7Id//HEs8XKGWZ9TXpUIU/ON+m3UtT\n",
              "4mgom/WxayAfc1AZ8R/IgZZEP5CEjEh7NNNGX+r2rT//xtXzhNFOkE4mXCkxTatdVLKGIDRdq1od\n",
              "UannlC2MmrhuEIgXAIvEIef7jhz4erUcHebJTXRpWT6XiPb5VBmBxCbYeTTTnqYIrCvcftQunqW0\n",
              "lAxeKKaS+ylBp1+yBs020qi18MPr016Ybt32KkjEJxy9AbWKqZFviKHZb0z5kAqfyU7+S6YClk5C\n",
              "iZzBpRnFjaRDW2T40G5SDaIy88iVsIJzqWbfQrPl4/IEMLq4y2OlVz8QRkbiZ9L9y/e40BkdOE2u\n",
              "TAUEZtKZppY93Tm6UOWmVTk5dNraGRjR7Hs2Hcx3kO+WU1nQSszopZd5G30rngcW9b359Xke0Uoi\n",
              "hHMPJ1YmrLGYACg/y03T9WZBKUOTho9Co+qp77UTYUo5wEzDm7jv1889f1Nig8R28d+A7ySpEax2\n",
              "7SNYc2ie4FEeXWO6/JfuMipPrvA9zf/3i8spV1Qf4a/ZH2TQ5vxGSIrUWTW+AzCue1ZHOMWPYIS6\n",
              "7ywXg+oTMTFYeOKjm2gGIQcirMBvAKFkJ2hV8yQG5kmptpH3gDozrroOqrt80YHXi7RWlwzTswnK\n",
              "whkjmIO8thXIeaMS5q3BVIoV45x7F/lw2F9cU85hE3JWxjvBJHw+9qdOAgwVEJFK29tRm3PROhtY\n",
              "bMPh8LqtY9dsbUcStDjQLq1tEYEeYgwar6zMdFVGsWo1jlSIXibBwKYn6D63fet3ymvsyR/O6wKo\n",
              "C3jPUsdaVWi3MYPZjMDuSHW3SbgypKxann4WIjqySXKSMn9Br12u4o7e8cVb5TlQrGUHGzrfCaO5\n",
              "6Qpw3ajAb55o2ExfEeFoJBRFz9BqANBR5EyJuiIujOk3/KBh9wjHbma9QAMRYIG++r/vyhyUaCVo\n",
              "5KBcfPv5AI9zEm6t/IlfxmJ6hlOIAO5N5JNZaXDy3vX/+akL2qbhiqDGyV/eCw7eR3VSRWPFiDYN\n",
              "B33GjeA0u3WB5deQKO5NrwxLi7yHlPQZao0g6Qswae4Z3pKE2bV2pj/qt0SSM1BXe892WUbyR1rd\n",
              "uAvm0R9u9reNlEgb1mEvV3x0INw24/lF164HaxdfoV7NgPDvG1trViS1EbxsrhS+RjMPxKZ/8c1Z\n",
              "J0mCW/YMoFleroXC/dbwAofpAq34exoaV7o0vfsBBmYRneQXw3O/jTJrXAdbuvDq1sH12qYxH0T5\n",
              "M/lUtsD5erqrSjee6gLL2vzd7yI4YzaWOh+lGnYHPw/dBYaoGfKXSl1IXR2uozv8X0n+t+h9TmAS\n",
              "B/7Of+X8KHy+rb/d5ZwJVA5nOnZBnjQyaB4+Waab3pPHuwjmD58+3rXGzZpkvlieJCWrfIJTsV4Q\n",
              "tGoaq640SO/fJFrIAAW8VHSY5iOh2IRIcYh8nyYLkTzCUMBbEzW4+Ef7lO5z99IYVaT3/xVruYS0\n",
              "zjQLZWwqfi51blvfQhEOKzLzzIIBZ9h21cU/YhsMueadN//cEzE1d94jBwfOslUTXsGykQKskOCl\n",
              "l0/792Hd/npxirSePpuff+GmFycwpeQMQha5WHpCXkSUnTz1WJ10/GN9OK9ddiuHpZXMzmcZ9ORI\n",
              "BZcuHMq1Xz7GgYtQhEHxANOGSZ18hWXHcsHBnIIoFoQSNGs1y6W0mgyIYYcuqHIdrmWI4HuZVsVs\n",
              "vfEJJaVKt345EjnLm0d52CZaC4wtQTO6pXs0l6JJT5L/WDPInEOm4MndN3d5w56M4Y0lNwrefUJB\n",
              "MMNfJ1fr8YezUGbXDWG/oKqvRoy8uCv50P3wdftAuTPaOcuoWEksR1We+uQ/gDosGHJa3lqRc+F6\n",
              "4HMNExFNlXMCdYKvCy2B7QthendUgQ/BwvOSYbK6ZS+kWkGPX10yDizzdzCBZ0O3eTKScz+rR7jx\n",
              "gD6QKeyKNvc5W4F6q8WU82XxMDcELdw1QqGEIsal+kjGsGdRH2y7ttk2omu2IuDPIYwRmC5ofIdD\n",
              "5yil9AWP0fSE6b+ThrhE55YV7BTmQhDJ/F7zBPiIrzcAN9tv6ZXbQyf+B5IcS2vQyIvMeBSZJ6dp\n",
              "ywX7BaT7Hv1h31WDFHogXlxRPwAYfgVPCgt8rfkSVGCIgfpG0x6aWeN5KHbvUMKrEeRbqcKB6osW\n",
              "BlBgBy0/R5s6xtoiuguXKkYCej1uA9uX/WxqjgT0BUheh0+czFB9JWB+01FPhR/CFAr/EjDv5M7/\n",
              "pmSEHm9+rwrtaRToVIWT9FnQdg1mfafCeRsnk2oGUriISNTgKC80/fTKGf6VULYG710v3ZZjpRU1\n",
              "fz99gLLW2WurBrbKZQyqlDjHKxbwxpy+TZTH5tLXfVa4MZklvzFLUV534861iQJM0wnsX6TPf99N\n",
              "FdsLOq74lnZYpZwzgyk6oJKOnjlphqtc695+VqDfPxJ1pnTn/Y7WSRPjKnjunXIPA1AQtpOUsWfw\n",
              "7+IAqB02h5vjy53V+2V2CEebesYQYFNk5Yk7+y3zjQdeoSPn0vpDXeQEWHM1sZM7DsfcK6w6S8WS\n",
              "xdxbX0WcSY+Ou1mQNgYZZv2XJnK0dv7ZlN2tr8TRM7P5RyGhyFZX5UBqmIBjLPDCR30OQ+wya5rC\n",
              "hhXCCyR4/i+TqgnXWADEClN0SP6GRsfL7h+XrAhcBE2w+R81SVmeSTXA6FhYsg6C8xR8ZhZ5umqD\n",
              "uQQ9nWqA4o4NcJS7IMsQ47hNig9yJAWqdLT7i3evBXlQY+DlZ+nnL1LtVzxvNva6CmDM4L2OaJDM\n",
              "PlX6R/8uhZfCUhdLlNlVXmTSIxuteX/hO0jm6/ysV+9Dln+yYD96UdwFxXAmm98tqwlcOhT/3p40\n",
              "nuroFcf/EIOcNFAzZ9xGQpd6vu5URE7GPmM11feE3IB/Eakx5o8C5EaZgB8lEmWX5JeJuJ/rC0Gu\n",
              "rnGviOWwb5dNcUfN5S1adCaGJmXwIEDRZKC8ySCdPknnN+yO7/KF78H9GTY3lIlQlj1CVAAgjTGn\n",
              "h6gQQTwKaDgSIOu3ItXBCYR8G+AnqmdmNrnAwbQod8dKd0ulMyP9qTUUNpuKJ2gJnXyc5UCiV8FR\n",
              "eK6iPT5zyR8resYwJB/0dUN4nkrWlHn48ae5pvKHmBCbukOkvw0PBztplMK46uXvvIQNqT86lyJC\n",
              "WOOuoY+ufhSMt7MvN+ApAz5NXLWDFQvthAw0Vp+VaQvhPdvypt8rtZiKMqMfjGJLNcfx6rBcclRV\n",
              "UeHqrOgEeDHRUSe1PEBdbhzsRxsYox+BefiTDjhNLRH4+Buugqas7XJNPQGYOLrrqTK2M4T9NCKY\n",
              "iByiRMB02BKKzqukzvXBzmcas9WpWs52kuE0YBfnCvmW/uBCIWxfUjnR13L7iwFKlkJm6pnATrRh\n",
              "wbJ7Cfqd0CQONPW0QKGgKgSx5snnvDixk85xCyzrZenSwMuQhdT3u4V9WmmZOsUceO9tjhxQNuMM\n",
              "14bLRT+i+mXV/Jk7vzEluMOH7iRekV06kEqqjKRrbCIZ2dN9Ne1NtHoxFOHJ2LHUG/EpxE2zr/wD\n",
              "0oOQEabPUoP57gS7aGs4ayaZEXy/aUcMbIomc7F8Yx8WFC1ngKLx5oWZ4YUJXmYTWlRUt4+i/IFq\n",
              "WyhIRz17yxSzlg8NUQ0k9EyyPOEhKN8tI21atM2uxkLISnaZmzpNht9EZeruqHTOH6+yDvwqHziE\n",
              "TVH6UgAS7z+PNDGO7oPdZRozi23uf4wbiHF4HGHH254h3P9NOxPZE6A+kRDeU63fCmlYH2+14Rxy\n",
              "rfdhldWa9nrH1Dnqpuw0SVk75/locOrhWz/yZu5oNQeCQgbLTl9boNM3hCsdayy78Eu+HKYxFd/w\n",
              "W2B8mA8LeN5muQ9WNh/wqXPMb3jqJ2FD3lUJqNcGfardFK9OT4T/UwJbfmwTAvPJIiQTjz1087wp\n",
              "EMLzq8AgEhxHsSEObN2VW1GQm7/7a8iyecuRfGdrFPyvJHHzo+6RqsFlur6Hhe+N2Q3Zom3IgD/Y\n",
              "ynG5INa9ngOrUFmIbGo1HleRTha9VIOw7te5tUXGwh3l4jDDMN75ckUguuYnRnaRYJyK5SbzwUDF\n",
              "BgK9hcfKnBFql2a7UBCIADa5vyKmZWmEVg5G2kv6ADJNKulfxeXx82jCFfHIxZTNGpHHMOXmECN2\n",
              "IElEFdIEo6j+d1ZSD3dK5QMa4nPdfk8vXDDFCh3e5MVS7gn0VkMcr7aE2Gh3VoKrcPr2dnotTqR7\n",
              "uO5FefYPi8T/D3BT8AtRHSdTFBiMf2QEavNSu6IZXlfZH/ShOuQXqU10qF4mgNGDq4n9j6cBLP09\n",
              "LLaoQ8TpfjxsH8wXrcgyhrg+RXrt9/Fh73FbOidGefkFgSdvtXeRk2odtfWz5lg6MTDoidKzU0PG\n",
              "sXDI0r2IdLtFpp73v8L3dqM7Ku/1DW83aWlOoTqaMabVvyZpXZlzL99sLiUXW/2olx4XZt2V0hmE\n",
              "3aqb/9sKw0EyhKO/Zq78YcZB+Bf39pWtkH7+HzaItAKidZusGh3tS3LyUnvkDx77F37kkmgJnbeZ\n",
              "jLChr/d9tyYe2AGGULArw9rtBVDM5OXB+QmkKKIOwT9vfkEMlamm5zSWrMf2qWNiY9m9Usnj3zE4\n",
              "HSlNm2hZTsfG7f1+eI+uU+hTAmidEfmUagapBJiX8MrlCLrxVmSXvWIOowhtZS5MrgU/MeWTdK/J\n",
              "i+5loORX6Txb4ujDyYGuOqYcfBI5BmAW/ukZXayIs56O4fzhZ9KlcKvRn0VmisUp8W+QfZaItZXa\n",
              "gdGxCK/lueYVPulwleXq9Lsg1qnoYxYssFc0gfz2OeUmOtP1pqLkI3exjFM1K45MKRvYd4gn7G9q\n",
              "ogF3adTX1y7xLZ2ZFrVzkCaNPAOwwckf5u5DTKTIyZsI2nnP09UTDIlf3ipw7eNIZWtPCO48na7/\n",
              "RJAx2BSfL72JeJqYwZx9bOaoyRn4saClbjJjgJC33aK02wljbbdjwJfnPOLe/qGWvKcC8rVoLePs\n",
              "I4q29VI7HY6o8XjI8i110FoeY0smo0h4CIiybVtu9w97+MaYmwkFcikXf+UiFMGuTZK/ls3NuPIh\n",
              "4I9pQN/xPma4j2emOO1ix75GJbfI4fLVDyEZuYXYVi49jC1xdelr4ThdzR9r1HT/vZmjqdiSrPWO\n",
              "CBjwU3Nioar+8fdgHwUo0b9bC4ek/wK+AvlJsEoaexPTCMWamtqSz/Swev00JVSKFELcfZcW4tfz\n",
              "ABS5jTy/piA0z6S5h8UTeeMNcykMtW9I/u8gzsge+r1pke9Su8UefPHVHGoPvKj0O+9CgYLH7mNL\n",
              "6TwtPtZrc66QNh39A8v8+kH943Ut6iRnN5cRk86omnBswNxcVCzOesDc7yw48O+eU20g7+Whnokq\n",
              "NgESkoxP4VkY5ht3yvu/dJxPEWPddZ3BwJSg61EZYNVUuHQNxN7+HOCh8qj9LFX3H2AdRu4BJrpx\n",
              "Y+eeQWnadnnHxefTabt7Ulo4CXvVL7NYaWkpu4dJOAud4y3VUUr4XiZh3eb1CpNF/9sjfpfb8rDu\n",
              "Yon7XTJNmtjSL+QIgA/pz2/TPN1qFPabnCqAyM+zBm+MsT6fHn5Z1/MMlTFmnsQkB5DzknfUTbU/\n",
              "qHIumAD4nXz8LqpJprHAKotH0bTDiPeTQvoGNcdfAsIewyQze34MfGrULL44Zm11QMRa1NTCMJqa\n",
              "sbyOv3PqDgXGn9VKQkKbGFllg5jL7Rau6t+8lIPag9QT56QUVywrIH1+T8k/WFiLYGT5+xxUelIG\n",
              "dNt5iS4Iv60r26244+nb2tciP9oSZbMs71pJE/zKyl/KzQhMomnWTctQNyK78CIsWUjUiT053hEa\n",
              "0JBswYj+FTZcd4YMG9IwV86SViYCaJvzUuFaSVm6BldYUccZIYXFbYeiMGzTwfGwCru/vExsIrv0\n",
              "hH/mnp2EpN9b0tu3wipTu8Kjo/jzEv4Xc0pSQ1OsJti+Z1ku49lmxkzVldqLIXv7roIKfHFycwjQ\n",
              "Lmju8T2SyzGueKzQMbioPEs04GIHp12wfNuebZM7Ll3pH78c3RHGnJalqP9pSVSmtUzKF1V6ZBSi\n",
              "OC1eoCW2M3JUoLjhpGd+NftfLcSYVPKSffBSOnnZEqLMZJg0hXJnpg4yTEeivK2JTVbyzjjgFnQ5\n",
              "NvYiowgBH4XjDDHXAOIf/27Xb8An5/gAD8lcWFT4Emkg1pftHjDLJTV3Z3er2X8hnC8mjnV8CIfT\n",
              "wwv3gD7mf3fj4uHdQvvCfpanUoLHeWeTtWLREPaw9yIZ7wnEAAH97coN5RyxZd06yV9jl9kIzdXS\n",
              "aD39wUWslVeVSWUL9l2XzGSEv4WLKVDnVIkVkv9slts9JA/cq5Eb0XSijyXY/qD5UtucV9aNXLJS\n",
              "QQffjCHfozWL+6JueuvX0flggTm/koHjTzzeq/HST2RkabuZW8QuPtzAgSNsqR4IZmpXg1L7Lia2\n",
              "ri171EIFRE2eWuA4kZKaAVUgUN4NLy/2Vh9sYAxnb2KaIH8Ct4T6esb4vdsrOVOPvzxhCOVMehyT\n",
              "u4t3aTSwRB+UR+lJRV9MOWvEYk1sRLayCnDVF/IpgziUNBihocRvS6qlELa4QEceMjLCXEiIQ3EX\n",
              "QN4h1Jhr1JPUzmT3yRBRlc8w9qlOKc5wDgch2H1VAeYvF0oHuXkXNQeMrCkM0N9l+zKAO3KsgbR0\n",
              "Kv1kKuCtMxo7659sIlPWzZOXSxYP4UFdOt1LAgXcwros22QpseMYit8db/vIt0YTRwJwujec/S5h\n",
              "5JykAxTJ3Zm7t4UrFv/HKGWjm+l9LqAHrzYZryVYdqPVWfW+UzdY+x8cesV/Gfc9j/BfTSLLz15x\n",
              "daxx8kMwy9La04VPmpXf4NYPUmqz+sw3LswSCnMxdD1I9Ws9MEgGpC8d0bCBmvjtW4Csk5afgbWL\n",
              "6uPaoHft1zXEtxuQfdsca0WSWpPsdmVCJ1yIMUYSwi3DzGGsa3oTQ5VjNGbB6ZnDfhWviTiZFDKS\n",
              "PQklpjSMw84iCXcfk5l944a3lCpeVXjHyOAk0bLzuryQSjW4gZ682nLq28nfmjRq2J3Y6MIBoMDH\n",
              "Bw+lS6CA1CcAaniOwc35ZJQJYh9dAeGP6ogz8D4tIs82sgAB3i78aOuIF+GG8smJ5W3TsHz8mPnc\n",
              "WamUk1GrgVzjjENLuSgDeBK0bNWKE/fB9++5xUX3eln2bvH3+oI7+ZbnEYHlPPP51SmvtrPnxlxq\n",
              "CXlDlxSSRh73uwUTFIZ/KrxYnntd8vw6KZeSn4PH378X85Uk3ttFv84HSMCx1xdMXaAYr35rjdxe\n",
              "02UKI2mHo2L/9Zr5wo2kK07U6zf2eyN8b+W7Vd4nywQxyPf3qlZKLeZQ4B+X4IdH4rggXnRXrtBB\n",
              "BdDVogCxD4hsEI/AI6HOdIEAAAE/QZokbEM//p4Qf+LFa9tZQCYbpJxfbZEZeG1voqbaApS6019j\n",
              "vUyRBbT30zOe40j/FT9MJ7nuPboxb5FqL+yf8wOf2Y6txQRTXu1oyxhi8kmbinUd0rCd0bychJY7\n",
              "PK1ifRVnWRyGZQYnSpRtsX5TAP2gEo/c8UiVhVIQGmMZclcm1MenCx6/vjQr88ViZKvcQtoplj4Z\n",
              "EQpD+jSklFX905o5Sj6tl2S7yUBEOjepviLPra4RqSEIja+1oZJ63ZogMsOZTC8iaTJw354SqkNL\n",
              "lBNnGxtKGOdDFX8HC2m/gCyBhTggTF1IcYkyXIiq8mo9WukBz0Bhq7cBInDy1QlrgWwXA6sy9xAm\n",
              "N9Enhzkik0F68KicvMAs0TOjP3SoG2JD/M8g+7EgAuk9mklUZ06CLc72TMN+/BocKx5pKwGM2AAA\n",
              "ADtBnkJ4hH8FM94X0HTAHmm2XAAALef4B1AAJzR/WpVBUTqNewSZG8YHCNzedgBO2Dc9HC14zZI4\n",
              "leuFhQAAAC8BnmF0R/8H4pNXFGBHhIV0wAAACxJ+qmWEjH6PxOSmBa0kqtWrxLYnuT7XF2IhTwAA\n",
              "ACUBnmNqR/8H6jSmlFzOsHAAAAMAAsS1TLAFtnW92u++Mj7QSbogAAAAM0GaaEmoQWiZTAhn//6e\n",
              "EH/ixMGhyIpWuqhgrafnJgAABSV22qZYAachPcD5CSSJgvqu4AAAACRBnoZFESwj/wVVNWKKNWWz\n",
              "QAADDrVMsKuWIaCsSta0kg+ULWEAAAAeAZ6ldEf/B+J+sKZmdO3EAAADAkSVTLAISCeKJ+KmAAAA\n",
              "CwGep2pH/wAAAwO7AAAAE0GarEmoQWyZTAhn//6eEAAAB0wAAAAPQZ7KRRUsI/8AAAhxUEvBAAAA\n",
              "CwGe6XRH/wAAAwO7AAAACwGe62pH/wAAAwO7AAAAE0Ga8EmoQWyZTAhn//6eEAAAB00AAAAPQZ8O\n",
              "RRUsI/8AAAhxUEvAAAAACwGfLXRH/wAAAwO6AAAACwGfL2pH/wAAAwO7AAAAE0GbNEmoQWyZTAhn\n",
              "//6eEAAAB0wAAAAPQZ9SRRUsI/8AAAhxUEvAAAAACwGfcXRH/wAAAwO7AAAACwGfc2pH/wAAAwO7\n",
              "AAAAE0GbeEmoQWyZTAhn//6eEAAAB00AAAAPQZ+WRRUsI/8AAAhxUEvAAAAACwGftXRH/wAAAwO6\n",
              "AAAACwGft2pH/wAAAwO7AAAAE0GbvEmoQWyZTAhn//6eEAAAB0wAAAAPQZ/aRRUsI/8AAAhxUEvA\n",
              "AAAACwGf+XRH/wAAAwO7AAAACwGf+2pH/wAAAwO6AAAAE0Gb4EmoQWyZTAhn//6eEAAAB00AAAAP\n",
              "QZ4eRRUsI/8AAAhxUEvBAAAACwGePXRH/wAAAwO6AAAACwGeP2pH/wAAAwO7AAAAE0GaJEmoQWyZ\n",
              "TAhn//6eEAAAB0wAAAAPQZ5CRRUsI/8AAAhxUEvBAAAACwGeYXRH/wAAAwO7AAAACwGeY2pH/wAA\n",
              "AwO6AAAAE0GaaEmoQWyZTAhn//6eEAAAB0wAAAAPQZ6GRRUsI/8AAAhxUEvBAAAACwGepXRH/wAA\n",
              "AwO6AAAACwGep2pH/wAAAwO7AAAAE0GarEmoQWyZTAhn//6eEAAAB0wAAAAPQZ7KRRUsI/8AAAhx\n",
              "UEvBAAAACwGe6XRH/wAAAwO7AAAACwGe62pH/wAAAwO7AAAAE0Ga8EmoQWyZTAhn//6eEAAAB00A\n",
              "AAAPQZ8ORRUsI/8AAAhxUEvAAAAACwGfLXRH/wAAAwO6AAAACwGfL2pH/wAAAwO7AAAAE0GbNEmo\n",
              "QWyZTAhn//6eEAAAB0wAAAAPQZ9SRRUsI/8AAAhxUEvAAAAACwGfcXRH/wAAAwO7AAAACwGfc2pH\n",
              "/wAAAwO7AAAAE0GbeEmoQWyZTAhn//6eEAAAB00AAAAPQZ+WRRUsI/8AAAhxUEvAAAAACwGftXRH\n",
              "/wAAAwO6AAAACwGft2pH/wAAAwO7AAAAE0GbvEmoQWyZTAhn//6eEAAAB0wAAAAPQZ/aRRUsI/8A\n",
              "AAhxUEvAAAAACwGf+XRH/wAAAwO7AAAACwGf+2pH/wAAAwO6AAAAE0Gb4EmoQWyZTAhn//6eEAAA\n",
              "B00AAAAPQZ4eRRUsI/8AAAhxUEvBAAAACwGePXRH/wAAAwO6AAAACwGeP2pH/wAAAwO7AAAAE0Ga\n",
              "JEmoQWyZTAhn//6eEAAAB0wAAAAPQZ5CRRUsI/8AAAhxUEvBAAAACwGeYXRH/wAAAwO7AAAACwGe\n",
              "Y2pH/wAAAwO6AAAAE0GaaEmoQWyZTAhn//6eEAAAB0wAAAAPQZ6GRRUsI/8AAAhxUEvBAAAACwGe\n",
              "pXRH/wAAAwO6AAAACwGep2pH/wAAAwO7AAAAE0GarEmoQWyZTAhn//6eEAAAB0wAAAAPQZ7KRRUs\n",
              "I/8AAAhxUEvBAAAACwGe6XRH/wAAAwO7AAAACwGe62pH/wAAAwO7AAAAE0Ga8EmoQWyZTAhn//6e\n",
              "EAAAB00AAAAPQZ8ORRUsI/8AAAhxUEvAAAAACwGfLXRH/wAAAwO6AAAACwGfL2pH/wAAAwO7AAAA\n",
              "E0GbNEmoQWyZTAhn//6eEAAAB0wAAAAPQZ9SRRUsI/8AAAhxUEvAAAAACwGfcXRH/wAAAwO7AAAA\n",
              "CwGfc2pH/wAAAwO7AAAAE0GbeEmoQWyZTAhn//6eEAAAB00AAAAPQZ+WRRUsI/8AAAhxUEvAAAAA\n",
              "CwGftXRH/wAAAwO6AAAACwGft2pH/wAAAwO7AAAAE0GbvEmoQWyZTAhn//6eEAAAB0wAAAAPQZ/a\n",
              "RRUsI/8AAAhxUEvAAAAACwGf+XRH/wAAAwO7AAAACwGf+2pH/wAAAwO6AAAAE0Gb4EmoQWyZTAhn\n",
              "//6eEAAAB00AAAAPQZ4eRRUsI/8AAAhxUEvBAAAACwGePXRH/wAAAwO6AAAACwGeP2pH/wAAAwO7\n",
              "AAAAE0GaJEmoQWyZTAhn//6eEAAAB0wAAAAPQZ5CRRUsI/8AAAhxUEvBAAAACwGeYXRH/wAAAwO7\n",
              "AAAACwGeY2pH/wAAAwO6AAAAE0GaaEmoQWyZTAhn//6eEAAAB0wAAAAPQZ6GRRUsI/8AAAhxUEvB\n",
              "AAAACwGepXRH/wAAAwO6AAAACwGep2pH/wAAAwO7AAAAE0GarEmoQWyZTAhn//6eEAAAB0wAAAAP\n",
              "QZ7KRRUsI/8AAAhxUEvBAAAACwGe6XRH/wAAAwO7AAAACwGe62pH/wAAAwO7AAAAE0Ga8EmoQWyZ\n",
              "TAhn//6eEAAAB00AAAAPQZ8ORRUsI/8AAAhxUEvAAAAACwGfLXRH/wAAAwO6AAAACwGfL2pH/wAA\n",
              "AwO7AAAAE0GbNEmoQWyZTAhn//6eEAAAB0wAAAAPQZ9SRRUsI/8AAAhxUEvAAAAACwGfcXRH/wAA\n",
              "AwO7AAAACwGfc2pH/wAAAwO7AAAAE0GbeEmoQWyZTAhn//6eEAAAB00AAAAPQZ+WRRUsI/8AAAhx\n",
              "UEvAAAAACwGftXRH/wAAAwO6AAAACwGft2pH/wAAAwO7AAAAE0GbvEmoQWyZTAhn//6eEAAAB0wA\n",
              "AAAPQZ/aRRUsI/8AAAhxUEvAAAAACwGf+XRH/wAAAwO7AAAACwGf+2pH/wAAAwO6AAAAE0Gb4Emo\n",
              "QWyZTAhn//6eEAAAB00AAAAPQZ4eRRUsI/8AAAhxUEvBAAAACwGePXRH/wAAAwO6AAAACwGeP2pH\n",
              "/wAAAwO7AAAAE0GaJEmoQWyZTAhn//6eEAAAB0wAAAAPQZ5CRRUsI/8AAAhxUEvBAAAACwGeYXRH\n",
              "/wAAAwO7AAAACwGeY2pH/wAAAwO6AAAAE0GaaEmoQWyZTAhn//6eEAAAB0wAAAAPQZ6GRRUsI/8A\n",
              "AAhxUEvBAAAACwGepXRH/wAAAwO6AAAACwGep2pH/wAAAwO7AAAAE0GarEmoQWyZTAhn//6eEAAA\n",
              "B0wAAAAPQZ7KRRUsI/8AAAhxUEvBAAAACwGe6XRH/wAAAwO7AAAACwGe62pH/wAAAwO7AAAAE0Ga\n",
              "8EmoQWyZTAhn//6eEAAAB00AAAAPQZ8ORRUsI/8AAAhxUEvAAAAACwGfLXRH/wAAAwO6AAAACwGf\n",
              "L2pH/wAAAwO7AAAAE0GbNEmoQWyZTAhn//6eEAAAB0wAAAAPQZ9SRRUsI/8AAAhxUEvAAAAACwGf\n",
              "cXRH/wAAAwO7AAAACwGfc2pH/wAAAwO7AAAAE0GbeEmoQWyZTAhn//6eEAAAB00AAAAPQZ+WRRUs\n",
              "I/8AAAhxUEvAAAAACwGftXRH/wAAAwO6AAAACwGft2pH/wAAAwO7AAAAE0GbvEmoQWyZTAhn//6e\n",
              "EAAAB0wAAAAPQZ/aRRUsI/8AAAhxUEvAAAAACwGf+XRH/wAAAwO7AAAACwGf+2pH/wAAAwO6AAAA\n",
              "E0Gb4EmoQWyZTAhn//6eEAAAB00AAAAPQZ4eRRUsI/8AAAhxUEvBAAAACwGePXRH/wAAAwO6AAAA\n",
              "CwGeP2pH/wAAAwO7AAAAE0GaJEmoQWyZTAhn//6eEAAAB0wAAAAPQZ5CRRUsI/8AAAhxUEvBAAAA\n",
              "CwGeYXRH/wAAAwO7AAAACwGeY2pH/wAAAwO6AAAAE0GaaEmoQWyZTAhn//6eEAAAB0wAAAAPQZ6G\n",
              "RRUsI/8AAAhxUEvBAAAACwGepXRH/wAAAwO6AAAACwGep2pH/wAAAwO7AAAAE0GarEmoQWyZTAhn\n",
              "//6eEAAAB0wAAAAPQZ7KRRUsI/8AAAhxUEvBAAAACwGe6XRH/wAAAwO7AAAACwGe62pH/wAAAwO7\n",
              "AAAAE0Ga8EmoQWyZTAhn//6eEAAAB00AAAAPQZ8ORRUsI/8AAAhxUEvAAAAACwGfLXRH/wAAAwO6\n",
              "AAAACwGfL2pH/wAAAwO7AAAAE0GbNEmoQWyZTAhn//6eEAAAB0wAAAAPQZ9SRRUsI/8AAAhxUEvA\n",
              "AAAACwGfcXRH/wAAAwO7AAAACwGfc2pH/wAAAwO7AAAAE0GbeEmoQWyZTAhn//6eEAAAB00AAAAP\n",
              "QZ+WRRUsI/8AAAhxUEvAAAAACwGftXRH/wAAAwO6AAAACwGft2pH/wAAAwO7AAAAE0GbvEmoQWyZ\n",
              "TAhn//6eEAAAB0wAAAAPQZ/aRRUsI/8AAAhxUEvAAAAACwGf+XRH/wAAAwO7AAAACwGf+2pH/wAA\n",
              "AwO6AAAAE0Gb4EmoQWyZTAhn//6eEAAAB00AAAAPQZ4eRRUsI/8AAAhxUEvBAAAACwGePXRH/wAA\n",
              "AwO6AAAACwGeP2pH/wAAAwO7AAAAE0GaJEmoQWyZTAhn//6eEAAAB0wAAAAPQZ5CRRUsI/8AAAhx\n",
              "UEvBAAAACwGeYXRH/wAAAwO7AAAACwGeY2pH/wAAAwO6AAAAE0GaaEmoQWyZTAhn//6eEAAAB0wA\n",
              "AAAPQZ6GRRUsI/8AAAhxUEvBAAAACwGepXRH/wAAAwO6AAAACwGep2pH/wAAAwO7AAAAE0GarEmo\n",
              "QWyZTAhn//6eEAAAB0wAAAAPQZ7KRRUsI/8AAAhxUEvBAAAACwGe6XRH/wAAAwO7AAAACwGe62pH\n",
              "/wAAAwO7AAAAE0Ga8EmoQWyZTAhn//6eEAAAB00AAAAPQZ8ORRUsI/8AAAhxUEvAAAAACwGfLXRH\n",
              "/wAAAwO6AAAACwGfL2pH/wAAAwO7AAAAE0GbNEmoQWyZTAhn//6eEAAAB0wAAAAPQZ9SRRUsI/8A\n",
              "AAhxUEvAAAAACwGfcXRH/wAAAwO7AAAACwGfc2pH/wAAAwO7AAAAE0GbeEmoQWyZTAhn//6eEAAA\n",
              "B00AAAAPQZ+WRRUsI/8AAAhxUEvAAAAACwGftXRH/wAAAwO6AAAACwGft2pH/wAAAwO7AAAAE0Gb\n",
              "vEmoQWyZTAhn//6eEAAAB0wAAAAPQZ/aRRUsI/8AAAhxUEvAAAAACwGf+XRH/wAAAwO7AAAACwGf\n",
              "+2pH/wAAAwO6AAAAE0Gb4EmoQWyZTAhn//6eEAAAB00AAAAPQZ4eRRUsI/8AAAhxUEvBAAAACwGe\n",
              "PXRH/wAAAwO6AAAACwGeP2pH/wAAAwO7AAAAE0GaJEmoQWyZTAhn//6eEAAAB0wAAAAPQZ5CRRUs\n",
              "I/8AAAhxUEvBAAAACwGeYXRH/wAAAwO7AAAACwGeY2pH/wAAAwO6AAAAE0GaaEmoQWyZTAhf//6M\n",
              "sAAAB1QAAAAPQZ6GRRUsI/8AAAhxUEvBAAAACwGepXRH/wAAAwO6AAAACwGep2pH/wAAAwO7AAAA\n",
              "E0GarEmoQWyZTAhf//6MsAAAB1QAAAAPQZ7KRRUsI/8AAAhxUEvBAAAACwGe6XRH/wAAAwO7AAAA\n",
              "CwGe62pH/wAAAwO7AAAAE0Ga8EmoQWyZTAhf//6MsAAAB1UAAAAPQZ8ORRUsI/8AAAhxUEvAAAAA\n",
              "CwGfLXRH/wAAAwO6AAAACwGfL2pH/wAAAwO7AAAAE0GbNEmoQWyZTAhX//44QAAAHHAAAAAPQZ9S\n",
              "RRUsI/8AAAhxUEvAAAAACwGfcXRH/wAAAwO7AAAACwGfc2pH/wAAAwO7AAAAFEGbeEmoQWyZTAhH\n",
              "//3hAAADAG9BAAAAD0GflkUVLCP/AAAIcVBLwAAAAAsBn7V0R/8AAAMDugAAAAsBn7dqR/8AAAMD\n",
              "uwAAABJBm7lJqEFsmUwI//yEAAADAbMAABqCbW9vdgAAAGxtdmhkAAAAAAAAAAAAAAAAAAAD6AAA\n",
              "JxAAAQAAAQAAAAAAAAAAAAAAAAEAAAAAAAAAAAAAAAAAAAABAAAAAAAAAAAAAAAAAABAAAAAAAAA\n",
              "AAAAAAAAAAAAAAAAAAAAAAAAAAAAAAAAAgAAGax0cmFrAAAAXHRraGQAAAADAAAAAAAAAAAAAAAB\n",
              "AAAAAAAAJxAAAAAAAAAAAAAAAAAAAAAAAAEAAAAAAAAAAAAAAAAAAAABAAAAAAAAAAAAAAAAAABA\n",
              "AAAAAbAAAAEgAAAAAAAkZWR0cwAAABxlbHN0AAAAAAAAAAEAACcQAAACAAABAAAAABkkbWRpYQAA\n",
              "ACBtZGhkAAAAAAAAAAAAAAAAAAAyAAAB9ABVxAAAAAAALWhkbHIAAAAAAAAAAHZpZGUAAAAAAAAA\n",
              "AAAAAABWaWRlb0hhbmRsZXIAAAAYz21pbmYAAAAUdm1oZAAAAAEAAAAAAAAAAAAAACRkaW5mAAAA\n",
              "HGRyZWYAAAAAAAAAAQAAAAx1cmwgAAAAAQAAGI9zdGJsAAAAs3N0c2QAAAAAAAAAAQAAAKNhdmMx\n",
              "AAAAAAAAAAEAAAAAAAAAAAAAAAAAAAAAAbABIABIAAAASAAAAAAAAAABAAAAAAAAAAAAAAAAAAAA\n",
              "AAAAAAAAAAAAAAAAAAAAAAAAGP//AAAAMWF2Y0MBZAAe/+EAGGdkAB6s2UGwloQAAAMABAAAAwGQ\n",
              "PFi2WAEABmjr48siwAAAABx1dWlka2hA8l8kT8W6OaUbzwMj8wAAAAAAAAAYc3R0cwAAAAAAAAAB\n",
              "AAAB9AAAAQAAAAAYc3RzcwAAAAAAAAACAAAAAQAAAPsAAA+QY3R0cwAAAAAAAAHwAAAAAgAAAgAA\n",
              "AAABAAAFAAAAAAEAAAIAAAAAAQAAAAAAAAABAAABAAAAAAMAAAIAAAAAAQAABQAAAAABAAACAAAA\n",
              "AAEAAAAAAAAAAQAAAQAAAAABAAAFAAAAAAEAAAIAAAAAAQAAAAAAAAABAAABAAAAAAEAAAUAAAAA\n",
              "AQAAAgAAAAABAAAAAAAAAAEAAAEAAAAAAQAABQAAAAABAAACAAAAAAEAAAAAAAAAAQAAAQAAAAAB\n",
              "AAAFAAAAAAEAAAIAAAAAAQAAAAAAAAABAAABAAAAAAEAAAUAAAAAAQAAAgAAAAABAAAAAAAAAAEA\n",
              "AAEAAAAAAQAABQAAAAABAAACAAAAAAEAAAAAAAAAAQAAAQAAAAABAAAFAAAAAAEAAAIAAAAAAQAA\n",
              "AAAAAAABAAABAAAAAAEAAAUAAAAAAQAAAgAAAAABAAAAAAAAAAEAAAEAAAAAAQAABQAAAAABAAAC\n",
              "AAAAAAEAAAAAAAAAAQAAAQAAAAABAAAFAAAAAAEAAAIAAAAAAQAAAAAAAAABAAABAAAAAAEAAAUA\n",
              "AAAAAQAAAgAAAAABAAAAAAAAAAEAAAEAAAAAAQAABQAAAAABAAACAAAAAAEAAAAAAAAAAQAAAQAA\n",
              "AAABAAAFAAAAAAEAAAIAAAAAAQAAAAAAAAABAAABAAAAAAEAAAUAAAAAAQAAAgAAAAABAAAAAAAA\n",
              "AAEAAAEAAAAAAQAABQAAAAABAAACAAAAAAEAAAAAAAAAAQAAAQAAAAABAAAFAAAAAAEAAAIAAAAA\n",
              "AQAAAAAAAAABAAABAAAAAAEAAAUAAAAAAQAAAgAAAAABAAAAAAAAAAEAAAEAAAAAAQAABQAAAAAB\n",
              "AAACAAAAAAEAAAAAAAAAAQAAAQAAAAABAAAFAAAAAAEAAAIAAAAAAQAAAAAAAAABAAABAAAAAAEA\n",
              "AAUAAAAAAQAAAgAAAAABAAAAAAAAAAEAAAEAAAAAAQAABQAAAAABAAACAAAAAAEAAAAAAAAAAQAA\n",
              "AQAAAAABAAAFAAAAAAEAAAIAAAAAAQAAAAAAAAABAAABAAAAAAEAAAUAAAAAAQAAAgAAAAABAAAA\n",
              "AAAAAAEAAAEAAAAAAQAABQAAAAABAAACAAAAAAEAAAAAAAAAAQAAAQAAAAABAAAFAAAAAAEAAAIA\n",
              "AAAAAQAAAAAAAAABAAABAAAAAAEAAAUAAAAAAQAAAgAAAAABAAAAAAAAAAEAAAEAAAAAAQAABQAA\n",
              "AAABAAACAAAAAAEAAAAAAAAAAQAAAQAAAAABAAAFAAAAAAEAAAIAAAAAAQAAAAAAAAABAAABAAAA\n",
              "AAEAAAUAAAAAAQAAAgAAAAABAAAAAAAAAAEAAAEAAAAAAQAABQAAAAABAAACAAAAAAEAAAAAAAAA\n",
              "AQAAAQAAAAABAAAFAAAAAAEAAAIAAAAAAQAAAAAAAAABAAABAAAAAAEAAAUAAAAAAQAAAgAAAAAB\n",
              "AAAAAAAAAAEAAAEAAAAAAQAABQAAAAABAAACAAAAAAEAAAAAAAAAAQAAAQAAAAABAAAFAAAAAAEA\n",
              "AAIAAAAAAQAAAAAAAAABAAABAAAAAAEAAAUAAAAAAQAAAgAAAAABAAAAAAAAAAEAAAEAAAAAAQAA\n",
              "BQAAAAABAAACAAAAAAEAAAAAAAAAAQAAAQAAAAABAAAFAAAAAAEAAAIAAAAAAQAAAAAAAAABAAAB\n",
              "AAAAAAEAAAUAAAAAAQAAAgAAAAABAAAAAAAAAAEAAAEAAAAAAQAABQAAAAABAAACAAAAAAEAAAAA\n",
              "AAAAAQAAAQAAAAABAAAFAAAAAAEAAAIAAAAAAQAAAAAAAAABAAABAAAAAAEAAAUAAAAAAQAAAgAA\n",
              "AAABAAAAAAAAAAEAAAEAAAAAAQAABQAAAAABAAACAAAAAAEAAAAAAAAAAQAAAQAAAAABAAAFAAAA\n",
              "AAEAAAIAAAAAAQAAAAAAAAABAAABAAAAAAEAAAUAAAAAAQAAAgAAAAABAAAAAAAAAAEAAAEAAAAA\n",
              "AQAABQAAAAABAAACAAAAAAEAAAAAAAAAAQAAAQAAAAABAAAFAAAAAAEAAAIAAAAAAQAAAAAAAAAB\n",
              "AAABAAAAAAEAAAUAAAAAAQAAAgAAAAABAAAAAAAAAAEAAAEAAAAAAQAABQAAAAABAAACAAAAAAEA\n",
              "AAAAAAAAAQAAAQAAAAABAAAFAAAAAAEAAAIAAAAAAQAAAAAAAAABAAABAAAAAAEAAAUAAAAAAQAA\n",
              "AgAAAAABAAAAAAAAAAEAAAEAAAAAAQAABQAAAAABAAACAAAAAAEAAAAAAAAAAQAAAQAAAAABAAAF\n",
              "AAAAAAEAAAIAAAAAAQAAAAAAAAABAAABAAAAAAEAAAUAAAAAAQAAAgAAAAABAAAAAAAAAAEAAAEA\n",
              "AAAAAQAABQAAAAABAAACAAAAAAEAAAAAAAAAAQAAAQAAAAABAAAFAAAAAAEAAAIAAAAAAQAAAAAA\n",
              "AAABAAABAAAAAAEAAAUAAAAAAQAAAgAAAAABAAAAAAAAAAEAAAEAAAAAAQAABQAAAAABAAACAAAA\n",
              "AAEAAAAAAAAAAQAAAQAAAAABAAAFAAAAAAEAAAIAAAAAAQAAAAAAAAABAAABAAAAAAEAAAUAAAAA\n",
              "AQAAAgAAAAABAAAAAAAAAAEAAAEAAAAAAgAAAgAAAAABAAAFAAAAAAEAAAIAAAAAAQAAAAAAAAAB\n",
              "AAABAAAAAAEAAAUAAAAAAQAAAgAAAAABAAAAAAAAAAEAAAEAAAAAAQAABQAAAAABAAACAAAAAAEA\n",
              "AAAAAAAAAQAAAQAAAAABAAAFAAAAAAEAAAIAAAAAAQAAAAAAAAABAAABAAAAAAEAAAUAAAAAAQAA\n",
              "AgAAAAABAAAAAAAAAAEAAAEAAAAAAQAABQAAAAABAAACAAAAAAEAAAAAAAAAAQAAAQAAAAABAAAF\n",
              "AAAAAAEAAAIAAAAAAQAAAAAAAAABAAABAAAAAAEAAAUAAAAAAQAAAgAAAAABAAAAAAAAAAEAAAEA\n",
              "AAAAAQAABQAAAAABAAACAAAAAAEAAAAAAAAAAQAAAQAAAAABAAAFAAAAAAEAAAIAAAAAAQAAAAAA\n",
              "AAABAAABAAAAAAEAAAUAAAAAAQAAAgAAAAABAAAAAAAAAAEAAAEAAAAAAQAABQAAAAABAAACAAAA\n",
              "AAEAAAAAAAAAAQAAAQAAAAABAAAFAAAAAAEAAAIAAAAAAQAAAAAAAAABAAABAAAAAAEAAAUAAAAA\n",
              "AQAAAgAAAAABAAAAAAAAAAEAAAEAAAAAAQAABQAAAAABAAACAAAAAAEAAAAAAAAAAQAAAQAAAAAB\n",
              "AAAFAAAAAAEAAAIAAAAAAQAAAAAAAAABAAABAAAAAAEAAAUAAAAAAQAAAgAAAAABAAAAAAAAAAEA\n",
              "AAEAAAAAAQAABQAAAAABAAACAAAAAAEAAAAAAAAAAQAAAQAAAAABAAAFAAAAAAEAAAIAAAAAAQAA\n",
              "AAAAAAABAAABAAAAAAEAAAUAAAAAAQAAAgAAAAABAAAAAAAAAAEAAAEAAAAAAQAABQAAAAABAAAC\n",
              "AAAAAAEAAAAAAAAAAQAAAQAAAAABAAAFAAAAAAEAAAIAAAAAAQAAAAAAAAABAAABAAAAAAEAAAUA\n",
              "AAAAAQAAAgAAAAABAAAAAAAAAAEAAAEAAAAAAQAABQAAAAABAAACAAAAAAEAAAAAAAAAAQAAAQAA\n",
              "AAABAAAFAAAAAAEAAAIAAAAAAQAAAAAAAAABAAABAAAAAAEAAAUAAAAAAQAAAgAAAAABAAAAAAAA\n",
              "AAEAAAEAAAAAAQAABQAAAAABAAACAAAAAAEAAAAAAAAAAQAAAQAAAAABAAAFAAAAAAEAAAIAAAAA\n",
              "AQAAAAAAAAABAAABAAAAAAEAAAUAAAAAAQAAAgAAAAABAAAAAAAAAAEAAAEAAAAAAQAABQAAAAAB\n",
              "AAACAAAAAAEAAAAAAAAAAQAAAQAAAAABAAAFAAAAAAEAAAIAAAAAAQAAAAAAAAABAAABAAAAAAEA\n",
              "AAUAAAAAAQAAAgAAAAABAAAAAAAAAAEAAAEAAAAAAQAABQAAAAABAAACAAAAAAEAAAAAAAAAAQAA\n",
              "AQAAAAABAAAFAAAAAAEAAAIAAAAAAQAAAAAAAAABAAABAAAAAAEAAAUAAAAAAQAAAgAAAAABAAAA\n",
              "AAAAAAEAAAEAAAAAAQAABQAAAAABAAACAAAAAAEAAAAAAAAAAQAAAQAAAAABAAAFAAAAAAEAAAIA\n",
              "AAAAAQAAAAAAAAABAAABAAAAAAEAAAUAAAAAAQAAAgAAAAABAAAAAAAAAAEAAAEAAAAAAQAABQAA\n",
              "AAABAAACAAAAAAEAAAAAAAAAAQAAAQAAAAABAAAFAAAAAAEAAAIAAAAAAQAAAAAAAAABAAABAAAA\n",
              "AAEAAAUAAAAAAQAAAgAAAAABAAAAAAAAAAEAAAEAAAAAAQAABQAAAAABAAACAAAAAAEAAAAAAAAA\n",
              "AQAAAQAAAAABAAAFAAAAAAEAAAIAAAAAAQAAAAAAAAABAAABAAAAAAEAAAUAAAAAAQAAAgAAAAAB\n",
              "AAAAAAAAAAEAAAEAAAAAAQAABQAAAAABAAACAAAAAAEAAAAAAAAAAQAAAQAAAAABAAAFAAAAAAEA\n",
              "AAIAAAAAAQAAAAAAAAABAAABAAAAAAEAAAUAAAAAAQAAAgAAAAABAAAAAAAAAAEAAAEAAAAAAQAA\n",
              "BQAAAAABAAACAAAAAAEAAAAAAAAAAQAAAQAAAAABAAAFAAAAAAEAAAIAAAAAAQAAAAAAAAABAAAB\n",
              "AAAAAAEAAAUAAAAAAQAAAgAAAAABAAAAAAAAAAEAAAEAAAAAAQAABQAAAAABAAACAAAAAAEAAAAA\n",
              "AAAAAQAAAQAAAAABAAAFAAAAAAEAAAIAAAAAAQAAAAAAAAABAAABAAAAAAEAAAUAAAAAAQAAAgAA\n",
              "AAABAAAAAAAAAAEAAAEAAAAAAQAABQAAAAABAAACAAAAAAEAAAAAAAAAAQAAAQAAAAABAAAFAAAA\n",
              "AAEAAAIAAAAAAQAAAAAAAAABAAABAAAAAAEAAAUAAAAAAQAAAgAAAAABAAAAAAAAAAEAAAEAAAAA\n",
              "AQAABQAAAAABAAACAAAAAAEAAAAAAAAAAQAAAQAAAAABAAAFAAAAAAEAAAIAAAAAAQAAAAAAAAAB\n",
              "AAABAAAAAAEAAAUAAAAAAQAAAgAAAAABAAAAAAAAAAEAAAEAAAAAAQAABQAAAAABAAACAAAAAAEA\n",
              "AAAAAAAAAQAAAQAAAAABAAAFAAAAAAEAAAIAAAAAAQAAAAAAAAABAAABAAAAAAEAAAUAAAAAAQAA\n",
              "AgAAAAABAAAAAAAAAAEAAAEAAAAAAQAAAgAAAAAcc3RzYwAAAAAAAAABAAAAAQAAAfQAAAABAAAH\n",
              "5HN0c3oAAAAAAAAAAAAAAfQAABl4AAAE+gAABloAAAKzAAADwwAAAZgAAALEAAABrAAAAL4AAABt\n",
              "AAAAHgAAABsAAAAYAAAAZgAAAB0AAAAbAAAAGQAAACIAAAAbAAAAGgAAABUAAAAaAAAAFgAAABUA\n",
              "AAAVAAAAFwAAABYAAAAVAAAAFQAAABcAAAAWAAAAFQAAABUAAAAXAAAAFgAAABUAAAAVAAAAFwAA\n",
              "ABYAAAAVAAAAFQAAABcAAAAWAAAAFQAAABUAAAAXAAAAFgAAABUAAAAVAAAAFwAAABYAAAAVAAAA\n",
              "FQAAABcAAAAWAAAAFQAAABUAAAAXAAAAFgAAABUAAAAVAAAAFwAAABYAAAAVAAAAFQAAABcAAAAW\n",
              "AAAAFQAAABUAAAAXAAAAFgAAABUAAAAVAAAAFwAAABYAAAAVAAAAFQAAABcAAAAWAAAAFQAAABUA\n",
              "AAAXAAAAFgAAABUAAAAVAAAAFwAAABYAAAAVAAAAFQAAABcAAAAWAAAAFQAAABUAAAAXAAAAFgAA\n",
              "ABUAAAAVAAAAFwAAABYAAAAVAAAAFQAAABcAAAAWAAAAFQAAABUAAAAXAAAAFgAAABUAAAAVAAAA\n",
              "FwAAABYAAAAVAAAAFQAAABcAAAAWAAAAFQAAABUAAAAXAAAAFgAAABUAAAAVAAAAFwAAABYAAAAV\n",
              "AAAAFQAAABcAAAAWAAAAFQAAABUAAAAXAAAAFgAAABUAAAAVAAAAFwAAABYAAAAVAAAAFQAAABcA\n",
              "AAAWAAAAFQAAABUAAAAXAAAAFgAAABUAAAAVAAAAFwAAABYAAAAVAAAAFQAAABcAAAAWAAAAFQAA\n",
              "ABUAAAAXAAAAFgAAABUAAAAVAAAAFwAAABYAAAAVAAAAFQAAABcAAAAWAAAAFQAAABUAAAAXAAAA\n",
              "FgAAABUAAAAVAAAAFwAAABYAAAAVAAAAFQAAABcAAAAWAAAAFQAAABUAAAAXAAAAFgAAABUAAAAV\n",
              "AAAAFwAAABYAAAAVAAAAFQAAABcAAAAWAAAAFQAAABUAAAAXAAAAFgAAABUAAAAVAAAAFwAAABYA\n",
              "AAAVAAAAFQAAABcAAAAWAAAAFQAAABUAAAAXAAAAFgAAABUAAAAVAAAAFwAAABYAAAAVAAAAFQAA\n",
              "ABcAAAAWAAAAFQAAABUAAAAXAAAAFgAAABUAAAAVAAAAFwAAABYAAAAVAAAAFQAAABcAAAAWAAAA\n",
              "FQAAABUAAAAXAAAAFgAAABUAAAAVAAAAFwAAABYAAAAVAAAAFQAAABcAAAAWAAAAFQAAABUAAAAX\n",
              "AAAAFgAAABUAAAAVAAAAFwAAABYAAAAVAAAAFQAAABcAAAAWAAAAFQAAABUAAAAWAAAbJwAAAUMA\n",
              "AAA/AAAAMwAAACkAAAA3AAAAKAAAACIAAAAPAAAAFwAAABMAAAAPAAAADwAAABcAAAATAAAADwAA\n",
              "AA8AAAAXAAAAEwAAAA8AAAAPAAAAFwAAABMAAAAPAAAADwAAABcAAAATAAAADwAAAA8AAAAXAAAA\n",
              "EwAAAA8AAAAPAAAAFwAAABMAAAAPAAAADwAAABcAAAATAAAADwAAAA8AAAAXAAAAEwAAAA8AAAAP\n",
              "AAAAFwAAABMAAAAPAAAADwAAABcAAAATAAAADwAAAA8AAAAXAAAAEwAAAA8AAAAPAAAAFwAAABMA\n",
              "AAAPAAAADwAAABcAAAATAAAADwAAAA8AAAAXAAAAEwAAAA8AAAAPAAAAFwAAABMAAAAPAAAADwAA\n",
              "ABcAAAATAAAADwAAAA8AAAAXAAAAEwAAAA8AAAAPAAAAFwAAABMAAAAPAAAADwAAABcAAAATAAAA\n",
              "DwAAAA8AAAAXAAAAEwAAAA8AAAAPAAAAFwAAABMAAAAPAAAADwAAABcAAAATAAAADwAAAA8AAAAX\n",
              "AAAAEwAAAA8AAAAPAAAAFwAAABMAAAAPAAAADwAAABcAAAATAAAADwAAAA8AAAAXAAAAEwAAAA8A\n",
              "AAAPAAAAFwAAABMAAAAPAAAADwAAABcAAAATAAAADwAAAA8AAAAXAAAAEwAAAA8AAAAPAAAAFwAA\n",
              "ABMAAAAPAAAADwAAABcAAAATAAAADwAAAA8AAAAXAAAAEwAAAA8AAAAPAAAAFwAAABMAAAAPAAAA\n",
              "DwAAABcAAAATAAAADwAAAA8AAAAXAAAAEwAAAA8AAAAPAAAAFwAAABMAAAAPAAAADwAAABcAAAAT\n",
              "AAAADwAAAA8AAAAXAAAAEwAAAA8AAAAPAAAAFwAAABMAAAAPAAAADwAAABcAAAATAAAADwAAAA8A\n",
              "AAAXAAAAEwAAAA8AAAAPAAAAFwAAABMAAAAPAAAADwAAABcAAAATAAAADwAAAA8AAAAXAAAAEwAA\n",
              "AA8AAAAPAAAAFwAAABMAAAAPAAAADwAAABcAAAATAAAADwAAAA8AAAAXAAAAEwAAAA8AAAAPAAAA\n",
              "FwAAABMAAAAPAAAADwAAABcAAAATAAAADwAAAA8AAAAXAAAAEwAAAA8AAAAPAAAAFwAAABMAAAAP\n",
              "AAAADwAAABcAAAATAAAADwAAAA8AAAAXAAAAEwAAAA8AAAAPAAAAFwAAABMAAAAPAAAADwAAABcA\n",
              "AAATAAAADwAAAA8AAAAXAAAAEwAAAA8AAAAPAAAAFwAAABMAAAAPAAAADwAAABcAAAATAAAADwAA\n",
              "AA8AAAAYAAAAEwAAAA8AAAAPAAAAFgAAABRzdGNvAAAAAAAAAAEAAAAsAAAAYnVkdGEAAABabWV0\n",
              "YQAAAAAAAAAhaGRscgAAAAAAAAAAbWRpcmFwcGwAAAAAAAAAAAAAAAAtaWxzdAAAACWpdG9vAAAA\n",
              "HWRhdGEAAAABAAAAAExhdmY1Ny44My4xMDA=\n",
              "\">\n",
              "  Your browser does not support the video tag.\n",
              "</video>"
            ],
            "text/plain": [
              "<IPython.core.display.HTML object>"
            ]
          },
          "metadata": {
            "tags": []
          },
          "execution_count": 327
        },
        {
          "output_type": "display_data",
          "data": {
            "image/png": "[encoded data removed]",
            "text/plain": [
              "<Figure size 432x288 with 1 Axes>"
            ]
          },
          "metadata": {
            "tags": [],
            "needs_background": "light"
          }
        }
      ]
    },
    {
      "cell_type": "markdown",
      "metadata": {
        "id": "D5XfGJ5wOcYC"
      },
      "source": [
        "How about fitting a deep Relu-based neural network? \n",
        "\n",
        "Following based partially on https://medium.com/@benjamin.phillips22/simple-regression-with-neural-networks-in-pytorch-313f06910379"
      ]
    },
    {
      "cell_type": "code",
      "metadata": {
        "id": "VG_E5EbHMIli"
      },
      "source": [
        "\n",
        "def train_model(x,y,net,opt,niter=10000):\n",
        "  x_fit = torch.unsqueeze(x,dim=1)\n",
        "  y_target = torch.unsqueeze(y,dim=1)\n",
        "  loss_history = []\n",
        "\n",
        "  # Training loop\n",
        "  for i in range(niter):\n",
        "    opt.zero_grad()\n",
        "    \n",
        "    # Compute current estimate\n",
        "    prediction = net(x_fit)\n",
        "    loss = rmse(prediction, y_target)   \n",
        "     \n",
        "    # Do some recordings for plots\n",
        "    loss_history.append(loss.item())\n",
        "    #p_history.append(p_hat.detach().numpy().copy())\n",
        "    \n",
        "    # Update model parameters\n",
        "    loss.backward()\n",
        "    opt.step()\n",
        "    if (i%1000 == 0):\n",
        "      print(\"Iteration %d\" % i,)\n",
        "      print(\"loss = %s\" % loss.item())\n",
        "\n",
        "  plt.subplot(2,1,1)\n",
        "  plt.plot(loss_history)\n",
        "\n",
        "  plt.subplot(2,1,2)\n",
        "  plt.scatter(x,y.detach().numpy())\n",
        "  x_fine = Variable(torch.linspace(0,10,200), requires_grad=False)\n",
        "  x_fine = torch.unsqueeze( x_fine,dim=1) \n",
        "  y_fine = net( x_fine )\n",
        "  plt.plot(x_fine,y_fine.detach())\n",
        "  print( net.parameters() )"
      ],
      "execution_count": 328,
      "outputs": []
    },
    {
      "cell_type": "code",
      "metadata": {
        "id": "RgIbulGbaSYk",
        "outputId": "c1ddcebc-d13e-4272-e928-c11a7213994a",
        "colab": {
          "base_uri": "https://localhost:8080/",
          "height": 622
        }
      },
      "source": [
        "import torch.nn.functional as F\n",
        "\n",
        "class Net(torch.nn.Module):\n",
        "    def __init__(self, n_feature, n_hidden, n_output):\n",
        "        super(Net, self).__init__()\n",
        "        self.hidden = torch.nn.Linear(n_feature, n_hidden)   # hidden layer\n",
        "        self.predict = torch.nn.Linear(n_hidden, n_output)   # output layer\n",
        "\n",
        "    def forward(self, x):\n",
        "        x = F.relu(self.hidden(x))      # activation function for hidden layer\n",
        "        x = self.predict(x)             # linear output\n",
        "        x = torch.exp(x)\n",
        "        return x\n",
        "\n",
        "#loss_func = torch.nn.MSELoss()  # this is for regression mean squared loss\n",
        "\n",
        "net = Net(n_feature=1, n_hidden=20, n_output=1)     # define the network\n",
        "\n",
        "learning_rate = 5e-2\n",
        "#opt = torch.optim.SGD(net.parameters(), lr=learning_rate, momentum=0.5)\n",
        "opt = torch.optim.Adagrad(net.parameters(), lr=learning_rate)\n",
        "\n",
        "train_model(x,y,net,opt)\n"
      ],
      "execution_count": 329,
      "outputs": [
        {
          "output_type": "stream",
          "text": [
            "Iteration 0\n",
            "loss = 0.6506519317626953\n",
            "Iteration 1000\n",
            "loss = 0.10605815798044205\n",
            "Iteration 2000\n",
            "loss = 0.10471247136592865\n",
            "Iteration 3000\n",
            "loss = 0.10419288277626038\n",
            "Iteration 4000\n",
            "loss = 0.10386976599693298\n",
            "Iteration 5000\n",
            "loss = 0.10233356058597565\n",
            "Iteration 6000\n",
            "loss = 0.10129152983427048\n",
            "Iteration 7000\n",
            "loss = 0.10092367231845856\n",
            "Iteration 8000\n",
            "loss = 0.10063023865222931\n",
            "Iteration 9000\n",
            "loss = 0.10039833933115005\n",
            "<generator object Module.parameters at 0x7f85d9b12d58>\n"
          ],
          "name": "stdout"
        },
        {
          "output_type": "display_data",
          "data": {
            "image/png": "[encoded data removed]",
            "text/plain": [
              "<Figure size 432x288 with 2 Axes>"
            ]
          },
          "metadata": {
            "tags": [],
            "needs_background": "light"
          }
        }
      ]
    },
    {
      "cell_type": "markdown",
      "metadata": {
        "id": "rGA6XO3cYrj3"
      },
      "source": [
        "Let's create a data set that is more challenging -- multiple Gaussian peaks."
      ]
    },
    {
      "cell_type": "code",
      "metadata": {
        "id": "vylWfQqjQ6Gp",
        "outputId": "cb8f42af-cbbc-4614-b2bc-00768bd71e7e",
        "colab": {
          "base_uri": "https://localhost:8080/",
          "height": 284
        }
      },
      "source": [
        "y2 = forward_gaussian(x, torch.tensor([2,0.1,2]) )+ forward_gaussian(x,[5,1,1])\n",
        "y2 += 0.1* torch.randn(n)\n",
        "plt.scatter(x,y2)"
      ],
      "execution_count": 330,
      "outputs": [
        {
          "output_type": "execute_result",
          "data": {
            "text/plain": [
              "<matplotlib.collections.PathCollection at 0x7f85d8428978>"
            ]
          },
          "metadata": {
            "tags": []
          },
          "execution_count": 330
        },
        {
          "output_type": "display_data",
          "data": {
            "image/png": "[encoded data removed]",
            "text/plain": [
              "<Figure size 432x288 with 1 Axes>"
            ]
          },
          "metadata": {
            "tags": [],
            "needs_background": "light"
          }
        }
      ]
    },
    {
      "cell_type": "code",
      "metadata": {
        "id": "tFEXLuR6Y1WO",
        "outputId": "c7735c94-652b-457f-8e25-2601d7314785",
        "colab": {
          "base_uri": "https://localhost:8080/",
          "height": 622
        }
      },
      "source": [
        "net = torch.nn.Sequential(\n",
        "        torch.nn.Linear(1, 20),\n",
        "        torch.nn.ReLU(),\n",
        "        torch.nn.Linear(20, 1),\n",
        "    )\n",
        "learning_rate = 5e-2\n",
        "#opt = torch.optim.SGD(net.parameters(), lr=learning_rate, momentum=0.5)\n",
        "opt = torch.optim.Adagrad(net.parameters(), lr=learning_rate)\n",
        "train_model(x,y2,net,opt)"
      ],
      "execution_count": 331,
      "outputs": [
        {
          "output_type": "stream",
          "text": [
            "Iteration 0\n",
            "loss = 0.8984338045120239\n",
            "Iteration 1000\n",
            "loss = 0.3373429477214813\n",
            "Iteration 2000\n",
            "loss = 0.3371569514274597\n",
            "Iteration 3000\n",
            "loss = 0.3371359407901764\n",
            "Iteration 4000\n",
            "loss = 0.3371322453022003\n",
            "Iteration 5000\n",
            "loss = 0.33713123202323914\n",
            "Iteration 6000\n",
            "loss = 0.3371293246746063\n",
            "Iteration 7000\n",
            "loss = 0.33713024854660034\n",
            "Iteration 8000\n",
            "loss = 0.33712896704673767\n",
            "Iteration 9000\n",
            "loss = 0.337127685546875\n",
            "<generator object Module.parameters at 0x7f85d9ca02b0>\n"
          ],
          "name": "stdout"
        },
        {
          "output_type": "display_data",
          "data": {
            "image/png": "[encoded data removed]",
            "text/plain": [
              "<Figure size 432x288 with 2 Axes>"
            ]
          },
          "metadata": {
            "tags": [],
            "needs_background": "light"
          }
        }
      ]
    },
    {
      "cell_type": "code",
      "metadata": {
        "id": "7iDkXNbtZeEs",
        "outputId": "e3297943-cbbd-4084-cffc-da097bf1522b",
        "colab": {
          "base_uri": "https://localhost:8080/",
          "height": 962
        }
      },
      "source": [
        "net = torch.nn.Sequential(\n",
        "        torch.nn.Linear(1, 20),\n",
        "        torch.nn.LeakyReLU(),\n",
        "        torch.nn.Linear(20, 10),\n",
        "        torch.nn.LeakyReLU(),\n",
        "        torch.nn.Linear(10, 1),\n",
        "    )\n",
        "learning_rate = 5e-2\n",
        "#opt = torch.optim.SGD(net.parameters(), lr=learning_rate, momentum=0.5)\n",
        "opt = torch.optim.Adagrad(net.parameters(), lr=learning_rate)\n",
        "train_model(x,y2,net,opt,20000)"
      ],
      "execution_count": 332,
      "outputs": [
        {
          "output_type": "stream",
          "text": [
            "Iteration 0\n",
            "loss = 0.5471477508544922\n",
            "Iteration 1000\n",
            "loss = 0.2512850761413574\n",
            "Iteration 2000\n",
            "loss = 0.22438602149486542\n",
            "Iteration 3000\n",
            "loss = 0.20600242912769318\n",
            "Iteration 4000\n",
            "loss = 0.19369515776634216\n",
            "Iteration 5000\n",
            "loss = 0.1825144737958908\n",
            "Iteration 6000\n",
            "loss = 0.17274044454097748\n",
            "Iteration 7000\n",
            "loss = 0.16503643989562988\n",
            "Iteration 8000\n",
            "loss = 0.15767067670822144\n",
            "Iteration 9000\n",
            "loss = 0.15269309282302856\n",
            "Iteration 10000\n",
            "loss = 0.14784452319145203\n",
            "Iteration 11000\n",
            "loss = 0.14386367797851562\n",
            "Iteration 12000\n",
            "loss = 0.14025616645812988\n",
            "Iteration 13000\n",
            "loss = 0.1374252587556839\n",
            "Iteration 14000\n",
            "loss = 0.1351102739572525\n",
            "Iteration 15000\n",
            "loss = 0.1326572299003601\n",
            "Iteration 16000\n",
            "loss = 0.1306663453578949\n",
            "Iteration 17000\n",
            "loss = 0.12873081862926483\n",
            "Iteration 18000\n",
            "loss = 0.12697412073612213\n",
            "Iteration 19000\n",
            "loss = 0.12497102469205856\n",
            "<generator object Module.parameters at 0x7f85d9ca04c0>\n"
          ],
          "name": "stdout"
        },
        {
          "output_type": "display_data",
          "data": {
            "image/png": "[encoded data removed]",
            "text/plain": [
              "<Figure size 432x288 with 2 Axes>"
            ]
          },
          "metadata": {
            "tags": [],
            "needs_background": "light"
          }
        }
      ]
    },
    {
      "cell_type": "markdown",
      "metadata": {
        "id": "hxw3uDAQbL__"
      },
      "source": [
        "Even harder -- 4 Gaussians"
      ]
    },
    {
      "cell_type": "code",
      "metadata": {
        "id": "HGKwAMUNZvZn",
        "outputId": "b88f0752-cb3f-4eea-c1ea-3a7538c10a56",
        "colab": {
          "base_uri": "https://localhost:8080/",
          "height": 282
        }
      },
      "source": [
        "y3 = forward_gaussian(x, torch.tensor([2,0.1,2]) )+ forward_gaussian(x,[5,2,1]) + forward_gaussian(x, torch.tensor([4,0.1,5]))+forward_gaussian(x, torch.tensor([9,0.2,3]) )\n",
        "y3 += 0.1* torch.randn(n)\n",
        "plt.scatter(x,y3)"
      ],
      "execution_count": 343,
      "outputs": [
        {
          "output_type": "execute_result",
          "data": {
            "text/plain": [
              "<matplotlib.collections.PathCollection at 0x7f85d7a9eda0>"
            ]
          },
          "metadata": {
            "tags": []
          },
          "execution_count": 343
        },
        {
          "output_type": "display_data",
          "data": {
            "image/png": "[encoded data removed]",
            "text/plain": [
              "<Figure size 432x288 with 1 Axes>"
            ]
          },
          "metadata": {
            "tags": [],
            "needs_background": "light"
          }
        }
      ]
    },
    {
      "cell_type": "markdown",
      "metadata": {
        "id": "xhbba-45cMgl"
      },
      "source": [
        "This fitting problem is impossible for single layer NN"
      ]
    },
    {
      "cell_type": "code",
      "metadata": {
        "id": "2NjCSaz4bSuc",
        "outputId": "9830f309-bc61-4d7f-a31c-6334c750a53e",
        "colab": {
          "base_uri": "https://localhost:8080/",
          "height": 622
        }
      },
      "source": [
        "net = torch.nn.Sequential(\n",
        "        torch.nn.Linear(1, 100),\n",
        "        torch.nn.ReLU(),\n",
        "        torch.nn.Linear(100, 1),\n",
        "    )\n",
        "learning_rate = 5e-2\n",
        "#opt = torch.optim.SGD(net.parameters(), lr=learning_rate, momentum=0.5)\n",
        "opt = torch.optim.Adagrad(net.parameters(), lr=learning_rate)\n",
        "train_model(x,y3,net,opt)"
      ],
      "execution_count": 345,
      "outputs": [
        {
          "output_type": "stream",
          "text": [
            "Iteration 0\n",
            "loss = 2.3479881286621094\n",
            "Iteration 1000\n",
            "loss = 0.8736760020256042\n",
            "Iteration 2000\n",
            "loss = 0.8651277422904968\n",
            "Iteration 3000\n",
            "loss = 0.8542529344558716\n",
            "Iteration 4000\n",
            "loss = 0.8475580215454102\n",
            "Iteration 5000\n",
            "loss = 0.8427165150642395\n",
            "Iteration 6000\n",
            "loss = 0.8387426733970642\n",
            "Iteration 7000\n",
            "loss = 0.8352997899055481\n",
            "Iteration 8000\n",
            "loss = 0.8322075605392456\n",
            "Iteration 9000\n",
            "loss = 0.8293583989143372\n",
            "<generator object Module.parameters at 0x7f85d85650f8>\n"
          ],
          "name": "stdout"
        },
        {
          "output_type": "display_data",
          "data": {
            "image/png": "[encoded data removed]",
            "text/plain": [
              "<Figure size 432x288 with 2 Axes>"
            ]
          },
          "metadata": {
            "tags": [],
            "needs_background": "light"
          }
        }
      ]
    },
    {
      "cell_type": "markdown",
      "metadata": {
        "id": "q-TwAyRDcRch"
      },
      "source": [
        "But its within reach of a 2-layer NN"
      ]
    },
    {
      "cell_type": "code",
      "metadata": {
        "id": "2Jrq2MZzbr67",
        "outputId": "f4e9693b-9755-4425-fc5f-93ae116f7685",
        "colab": {
          "base_uri": "https://localhost:8080/",
          "height": 622
        }
      },
      "source": [
        "net = torch.nn.Sequential(\n",
        "        torch.nn.Linear(1, 20),\n",
        "        torch.nn.LeakyReLU(),\n",
        "        torch.nn.Linear(20, 10),\n",
        "        torch.nn.LeakyReLU(),\n",
        "        torch.nn.Linear(10, 1),\n",
        "    )\n",
        "learning_rate = 5e-2\n",
        "#opt = torch.optim.SGD(net.parameters(), lr=learning_rate, momentum=0.5)\n",
        "opt = torch.optim.Adagrad(net.parameters(), lr=learning_rate)\n",
        "train_model(x,y3,net,opt,10000)"
      ],
      "execution_count": 346,
      "outputs": [
        {
          "output_type": "stream",
          "text": [
            "Iteration 0\n",
            "loss = 1.1564594507217407\n",
            "Iteration 1000\n",
            "loss = 0.872823178768158\n",
            "Iteration 2000\n",
            "loss = 0.8643032312393188\n",
            "Iteration 3000\n",
            "loss = 0.8434626460075378\n",
            "Iteration 4000\n",
            "loss = 0.8361644744873047\n",
            "Iteration 5000\n",
            "loss = 0.8336700797080994\n",
            "Iteration 6000\n",
            "loss = 0.8306252956390381\n",
            "Iteration 7000\n",
            "loss = 0.8291360139846802\n",
            "Iteration 8000\n",
            "loss = 0.828275740146637\n",
            "Iteration 9000\n",
            "loss = 0.8281446099281311\n",
            "<generator object Module.parameters at 0x7f85d8565308>\n"
          ],
          "name": "stdout"
        },
        {
          "output_type": "display_data",
          "data": {
            "image/png": "[encoded data removed]",
            "text/plain": [
              "<Figure size 432x288 with 2 Axes>"
            ]
          },
          "metadata": {
            "tags": [],
            "needs_background": "light"
          }
        }
      ]
    },
    {
      "cell_type": "markdown",
      "metadata": {
        "id": "4k7OR3-ScV1A"
      },
      "source": [
        "More channels in the 2 hidden-layer net -- works better!"
      ]
    },
    {
      "cell_type": "code",
      "metadata": {
        "id": "xQ1n1wkhb3Py",
        "outputId": "6ae8b331-ca65-4954-fe5d-d20767db1cf6",
        "colab": {
          "base_uri": "https://localhost:8080/",
          "height": 962
        }
      },
      "source": [
        "net = torch.nn.Sequential(\n",
        "        torch.nn.Linear(1, 200),\n",
        "        torch.nn.LeakyReLU(),\n",
        "        torch.nn.Linear(200, 100),\n",
        "        torch.nn.LeakyReLU(),\n",
        "        torch.nn.Linear(100, 1),\n",
        "    )\n",
        "learning_rate = 5e-2\n",
        "#opt = torch.optim.SGD(net.parameters(), lr=learning_rate, momentum=0.5)\n",
        "opt = torch.optim.Adagrad(net.parameters(), lr=learning_rate)\n",
        "train_model(x,y3,net,opt,20000)"
      ],
      "execution_count": 349,
      "outputs": [
        {
          "output_type": "stream",
          "text": [
            "Iteration 0\n",
            "loss = 2.1045095920562744\n",
            "Iteration 1000\n",
            "loss = 0.8199440240859985\n",
            "Iteration 2000\n",
            "loss = 0.7298867702484131\n",
            "Iteration 3000\n",
            "loss = 0.6526143550872803\n",
            "Iteration 4000\n",
            "loss = 0.5782930254936218\n",
            "Iteration 5000\n",
            "loss = 0.5359084606170654\n",
            "Iteration 6000\n",
            "loss = 0.492371141910553\n",
            "Iteration 7000\n",
            "loss = 0.45540061593055725\n",
            "Iteration 8000\n",
            "loss = 0.4157325029373169\n",
            "Iteration 9000\n",
            "loss = 0.3808887302875519\n",
            "Iteration 10000\n",
            "loss = 0.351757287979126\n",
            "Iteration 11000\n",
            "loss = 0.32332301139831543\n",
            "Iteration 12000\n",
            "loss = 0.29972773790359497\n",
            "Iteration 13000\n",
            "loss = 0.2735322117805481\n",
            "Iteration 14000\n",
            "loss = 0.25907599925994873\n",
            "Iteration 15000\n",
            "loss = 0.23980724811553955\n",
            "Iteration 16000\n",
            "loss = 0.224985271692276\n",
            "Iteration 17000\n",
            "loss = 0.2088298797607422\n",
            "Iteration 18000\n",
            "loss = 0.19539880752563477\n",
            "Iteration 19000\n",
            "loss = 0.18071024119853973\n",
            "<generator object Module.parameters at 0x7f85d80208e0>\n"
          ],
          "name": "stdout"
        },
        {
          "output_type": "display_data",
          "data": {
            "image/png": "[encoded data removed]",
            "text/plain": [
              "<Figure size 432x288 with 2 Axes>"
            ]
          },
          "metadata": {
            "tags": [],
            "needs_background": "light"
          }
        }
      ]
    },
    {
      "cell_type": "markdown",
      "metadata": {
        "id": "_G9AmK3BcuYc"
      },
      "source": [
        "Three-layer net works even better!"
      ]
    },
    {
      "cell_type": "code",
      "metadata": {
        "id": "kPI70Okub-Pu",
        "outputId": "40b8537d-c930-4104-844d-48e96c76c8cd",
        "colab": {
          "base_uri": "https://localhost:8080/",
          "height": 962
        }
      },
      "source": [
        "net = torch.nn.Sequential(\n",
        "        torch.nn.Linear(1, 20),\n",
        "        torch.nn.LeakyReLU(),\n",
        "        torch.nn.Linear(20, 10),\n",
        "        torch.nn.LeakyReLU(),\n",
        "        torch.nn.Linear(10, 10),\n",
        "        torch.nn.LeakyReLU(),\n",
        "        torch.nn.Linear(10, 1),\n",
        "    )\n",
        "learning_rate = 5e-2\n",
        "#opt = torch.optim.SGD(net.parameters(), lr=learning_rate, momentum=0.5)\n",
        "opt = torch.optim.Adagrad(net.parameters(), lr=learning_rate)\n",
        "train_model(x,y3,net,opt,20000)"
      ],
      "execution_count": 350,
      "outputs": [
        {
          "output_type": "stream",
          "text": [
            "Iteration 0\n",
            "loss = 1.010724663734436\n",
            "Iteration 1000\n",
            "loss = 0.6169629096984863\n",
            "Iteration 2000\n",
            "loss = 0.41283127665519714\n",
            "Iteration 3000\n",
            "loss = 0.31028738617897034\n",
            "Iteration 4000\n",
            "loss = 0.22376254200935364\n",
            "Iteration 5000\n",
            "loss = 0.1962101310491562\n",
            "Iteration 6000\n",
            "loss = 0.1895897090435028\n",
            "Iteration 7000\n",
            "loss = 0.18635696172714233\n",
            "Iteration 8000\n",
            "loss = 0.18010301887989044\n",
            "Iteration 9000\n",
            "loss = 0.17993058264255524\n",
            "Iteration 10000\n",
            "loss = 0.18039122223854065\n",
            "Iteration 11000\n",
            "loss = 0.1795852929353714\n",
            "Iteration 12000\n",
            "loss = 0.17862117290496826\n",
            "Iteration 13000\n",
            "loss = 0.1792255938053131\n",
            "Iteration 14000\n",
            "loss = 0.17654666304588318\n",
            "Iteration 15000\n",
            "loss = 0.17598460614681244\n",
            "Iteration 16000\n",
            "loss = 0.17533546686172485\n",
            "Iteration 17000\n",
            "loss = 0.17320318520069122\n",
            "Iteration 18000\n",
            "loss = 0.16607783734798431\n",
            "Iteration 19000\n",
            "loss = 0.16348744928836823\n",
            "<generator object Module.parameters at 0x7f85d8784150>\n"
          ],
          "name": "stdout"
        },
        {
          "output_type": "display_data",
          "data": {
            "image/png": "[encoded data removed]",
            "text/plain": [
              "<Figure size 432x288 with 2 Axes>"
            ]
          },
          "metadata": {
            "tags": [],
            "needs_background": "light"
          }
        }
      ]
    },
    {
      "cell_type": "markdown",
      "metadata": {
        "id": "a55xWmI7cxRL"
      },
      "source": [
        "Next up -- need to learn how to do batches.\n",
        "OK, figure out how to do batches -- final results look worse, though! May need to run for much longer."
      ]
    },
    {
      "cell_type": "code",
      "metadata": {
        "id": "e3xOalYXchT6"
      },
      "source": [
        "import torch.utils.data as Data\n",
        "\n",
        "def train_model_batch(x,y,net,opt,batch_size=100,num_epochs=200):\n",
        "  torch_dataset = Data.TensorDataset(torch.unsqueeze(x,dim=1), torch.unsqueeze(y3,dim=1))\n",
        "\n",
        "  loader = Data.DataLoader(\n",
        "    dataset=torch_dataset, \n",
        "    batch_size=BATCH_SIZE, \n",
        "    shuffle=True, num_workers=2,)\n",
        "\n",
        "  loss_history = []\n",
        "  # start training\n",
        "  for epoch in range(num_epochs):\n",
        "    for step, (batch_x, batch_y) in enumerate(loader): # for each training step\n",
        "        \n",
        "        b_x = Variable(batch_x)\n",
        "        b_y = Variable(batch_y)\n",
        "\n",
        "        opt.zero_grad()\n",
        "        # Compute current estimate\n",
        "        prediction = net(b_x)\n",
        "        loss = rmse(prediction, b_y)   \n",
        "     \n",
        "        # Do some recordings for plots\n",
        "        loss_history.append(loss.item())\n",
        "    \n",
        "        # Update model parameters\n",
        "        loss.backward()\n",
        "        opt.step()\n",
        "        if (step%100 == 0 and epoch%100 == 0):\n",
        "          print(\"Iteration %d, Epoch %d\" % (step,epoch) )\n",
        "          print(\"loss = %s\" % loss.item())\n",
        "\n",
        "  plt.subplot(2,1,1)\n",
        "  plt.plot(loss_history)\n",
        "\n",
        "  plt.subplot(2,1,2)\n",
        "  plt.scatter(x,y.detach().numpy())\n",
        "  x_fine = Variable(torch.linspace(0,10,200), requires_grad=False)\n",
        "  x_fine = torch.unsqueeze( x_fine,dim=1) \n",
        "  y_fine = net( x_fine )\n",
        "  plt.plot(x_fine,y_fine.detach())\n",
        "  print( net.parameters() )\n"
      ],
      "execution_count": 373,
      "outputs": []
    },
    {
      "cell_type": "code",
      "metadata": {
        "id": "n4WilGMbeXX9",
        "outputId": "28ac7d68-514e-46be-d4f9-16c0c813f70d",
        "colab": {
          "base_uri": "https://localhost:8080/",
          "height": 962
        }
      },
      "source": [
        "net = torch.nn.Sequential(\n",
        "        torch.nn.Linear(1, 20),\n",
        "        torch.nn.LeakyReLU(),\n",
        "        torch.nn.Linear(20, 10),\n",
        "        torch.nn.LeakyReLU(),\n",
        "        torch.nn.Linear(10, 10),\n",
        "        torch.nn.LeakyReLU(),\n",
        "        torch.nn.Linear(10, 1),\n",
        "    )\n",
        "learning_rate = 5e-2\n",
        "#opt = torch.optim.SGD(net.parameters(), lr=learning_rate, momentum=0.5)\n",
        "opt = torch.optim.Adagrad(net.parameters(), lr=learning_rate)\n",
        "train_model_batch(x,y3,net,opt,batch_size=50,num_epochs=2000)"
      ],
      "execution_count": 377,
      "outputs": [
        {
          "output_type": "stream",
          "text": [
            "Iteration 0, Epoch 0\n",
            "loss = 1.1276664733886719\n",
            "Iteration 0, Epoch 100\n",
            "loss = 0.8815456628799438\n",
            "Iteration 0, Epoch 200\n",
            "loss = 0.8658756017684937\n",
            "Iteration 0, Epoch 300\n",
            "loss = 0.8487903475761414\n",
            "Iteration 0, Epoch 400\n",
            "loss = 0.8158764243125916\n",
            "Iteration 0, Epoch 500\n",
            "loss = 0.8179120421409607\n",
            "Iteration 0, Epoch 600\n",
            "loss = 0.7381014227867126\n",
            "Iteration 0, Epoch 700\n",
            "loss = 0.7188877463340759\n",
            "Iteration 0, Epoch 800\n",
            "loss = 0.7363153100013733\n",
            "Iteration 0, Epoch 900\n",
            "loss = 0.7032409906387329\n",
            "Iteration 0, Epoch 1000\n",
            "loss = 0.677316427230835\n",
            "Iteration 0, Epoch 1100\n",
            "loss = 0.6394706964492798\n",
            "Iteration 0, Epoch 1200\n",
            "loss = 0.6226131319999695\n",
            "Iteration 0, Epoch 1300\n",
            "loss = 0.5996204614639282\n",
            "Iteration 0, Epoch 1400\n",
            "loss = 0.5774065852165222\n",
            "Iteration 0, Epoch 1500\n",
            "loss = 0.5464435815811157\n",
            "Iteration 0, Epoch 1600\n",
            "loss = 0.5285104513168335\n",
            "Iteration 0, Epoch 1700\n",
            "loss = 0.5250169634819031\n",
            "Iteration 0, Epoch 1800\n",
            "loss = 0.48125654458999634\n",
            "Iteration 0, Epoch 1900\n",
            "loss = 0.46054285764694214\n",
            "<generator object Module.parameters at 0x7f85dca09e60>\n"
          ],
          "name": "stdout"
        },
        {
          "output_type": "display_data",
          "data": {
            "image/png": "[encoded data removed]",
            "text/plain": [
              "<Figure size 432x288 with 2 Axes>"
            ]
          },
          "metadata": {
            "tags": [],
            "needs_background": "light"
          }
        }
      ]
    },
    {
      "cell_type": "code",
      "metadata": {
        "id": "_noX1jVogSjw"
      },
      "source": [
        ""
      ],
      "execution_count": null,
      "outputs": []
    }
  ]
}