{
  "nbformat": 4,
  "nbformat_minor": 0,
  "metadata": {
    "colab": {
      "name": "0_Simple_1D_fit.ipynb",
      "provenance": [],
      "collapsed_sections": [],
      "authorship_tag": "ABX9TyNnsy16V/SSQH6kAIRDI4z7",
      "include_colab_link": true
    },
    "kernelspec": {
      "name": "python3",
      "display_name": "Python 3"
    }
  },
  "cells": [
    {
      "cell_type": "markdown",
      "metadata": {
        "id": "view-in-github",
        "colab_type": "text"
      },
      "source": [
        "<a href=\"https://colab.research.google.com/github/rhiju/rna_lores2/blob/main/0_Simple_1D_fit.ipynb\" target=\"_parent\"><img src=\"https://colab.research.google.com/assets/colab-badge.svg\" alt=\"Open In Colab\"/></a>"
      ]
    },
    {
      "cell_type": "code",
      "metadata": {
        "id": "vuLXaO3q2_Bo",
        "outputId": "aee69b91-9325-425b-b666-40fb25fbc629",
        "colab": {
          "base_uri": "https://localhost:8080/"
        }
      },
      "source": [
        "import torch\n",
        "from torch.autograd import Variable\n",
        "import numpy as np\n",
        "\n",
        "def rmse(y, y_hat):\n",
        "    \"\"\"Compute root mean squared error\"\"\"\n",
        "    return torch.sqrt(torch.mean((y - y_hat).pow(2)))\n",
        "\n",
        "def forward(x, e):\n",
        "    \"\"\"Forward pass for our fuction\"\"\"\n",
        "    return x.pow(e.repeat(x.size(0)))\n",
        "\n",
        "# Let's define some settings\n",
        "n = 100 # number of examples\n",
        "learning_rate = 5e-7\n",
        "\n",
        "# Model definition\n",
        "x = Variable(torch.rand(n) * 10, requires_grad=False)\n",
        "y = forward(x, exp)\n",
        "y += 10.0* torch.randn(n)\n",
        "\n",
        "# Model parameters\n",
        "exp = Variable(torch.FloatTensor([2.0]), requires_grad=False)\n",
        "exp_hat = Variable(torch.FloatTensor([4]), requires_grad=True)\n",
        "\n",
        "# Optimizer (NEW)\n",
        "opt = torch.optim.SGD([exp_hat], lr=learning_rate, momentum=0.9)\n",
        "\n",
        "loss_history = []\n",
        "exp_history = []\n",
        "\n",
        "# Training loop\n",
        "for i in range(0, 2000):\n",
        "    opt.zero_grad()\n",
        "    \n",
        "    # Compute current estimate\n",
        "    y_hat = forward(x, exp_hat)\n",
        "    \n",
        "    # Calculate loss function\n",
        "    loss = rmse(y, y_hat)\n",
        "    \n",
        "    # Do some recordings for plots\n",
        "    loss_history.append(loss.item())\n",
        "    exp_history.append(exp_hat.item())\n",
        "    \n",
        "    # Update model parameters\n",
        "    loss.backward()\n",
        "    opt.step()\n",
        "    if (i%100 == 0):\n",
        "      print(\"Iteration %d\" % i)\n",
        "      print(\"loss = %s\" % loss.item())\n",
        "      print(\"exp = %s\" % exp_hat.item())\n"
      ],
      "execution_count": 68,
      "outputs": [
        {
          "output_type": "stream",
          "text": [
            "Iteration 0\n",
            "loss = 3092.892822265625\n",
            "exp = 3.996549367904663\n",
            "Iteration 100\n",
            "loss = 287.1483154296875\n",
            "exp = 2.9646005630493164\n",
            "Iteration 200\n",
            "loss = 139.0827178955078\n",
            "exp = 2.6896731853485107\n",
            "Iteration 300\n",
            "loss = 84.55219268798828\n",
            "exp = 2.523054361343384\n",
            "Iteration 400\n",
            "loss = 55.967384338378906\n",
            "exp = 2.402601718902588\n",
            "Iteration 500\n",
            "loss = 38.512020111083984\n",
            "exp = 2.3085715770721436\n",
            "Iteration 600\n",
            "loss = 27.02300453186035\n",
            "exp = 2.2323272228240967\n",
            "Iteration 700\n",
            "loss = 19.311553955078125\n",
            "exp = 2.169858694076538\n",
            "Iteration 800\n",
            "loss = 14.371039390563965\n",
            "exp = 2.1198184490203857\n",
            "Iteration 900\n",
            "loss = 11.595175743103027\n",
            "exp = 2.082265853881836\n",
            "Iteration 1000\n",
            "loss = 10.300103187561035\n",
            "exp = 2.056596279144287\n",
            "Iteration 1100\n",
            "loss = 9.77820110321045\n",
            "exp = 2.040297031402588\n",
            "Iteration 1200\n",
            "loss = 9.579816818237305\n",
            "exp = 2.030247211456299\n",
            "Iteration 1300\n",
            "loss = 9.504595756530762\n",
            "exp = 2.024057388305664\n",
            "Iteration 1400\n",
            "loss = 9.475674629211426\n",
            "exp = 2.0202198028564453\n",
            "Iteration 1500\n",
            "loss = 9.464378356933594\n",
            "exp = 2.0178215503692627\n",
            "Iteration 1600\n",
            "loss = 9.459909439086914\n",
            "exp = 2.016313076019287\n",
            "Iteration 1700\n",
            "loss = 9.458128929138184\n",
            "exp = 2.0153605937957764\n",
            "Iteration 1800\n",
            "loss = 9.457414627075195\n",
            "exp = 2.0147578716278076\n",
            "Iteration 1900\n",
            "loss = 9.45712661743164\n",
            "exp = 2.0143752098083496\n"
          ],
          "name": "stdout"
        }
      ]
    },
    {
      "cell_type": "code",
      "metadata": {
        "id": "n0Rgg4PB3hiI",
        "outputId": "6b823a14-23bc-4ab4-a305-e802e48325e1",
        "colab": {
          "base_uri": "https://localhost:8080/",
          "height": 298
        }
      },
      "source": [
        "import matplotlib.pyplot as plt\n",
        "plt.subplot(2,1,1)\n",
        "plt.plot(exp_history)\n",
        "plt.ylim(0, 10)\n",
        "plt.show()\n",
        "plt.subplot(2,1,2)\n",
        "plt.plot(loss_history)"
      ],
      "execution_count": 69,
      "outputs": [
        {
          "output_type": "display_data",
          "data": {
            "image/png": "[encoded data removed]",
            "text/plain": [
              "<Figure size 432x288 with 1 Axes>"
            ]
          },
          "metadata": {
            "tags": [],
            "needs_background": "light"
          }
        },
        {
          "output_type": "execute_result",
          "data": {
            "text/plain": [
              "[<matplotlib.lines.Line2D at 0x7f85e603dcc0>]"
            ]
          },
          "metadata": {
            "tags": []
          },
          "execution_count": 69
        },
        {
          "output_type": "display_data",
          "data": {
            "image/png": "[encoded data removed]",
            "text/plain": [
              "<Figure size 432x288 with 1 Axes>"
            ]
          },
          "metadata": {
            "tags": [],
            "needs_background": "light"
          }
        }
      ]
    },
    {
      "cell_type": "code",
      "metadata": {
        "id": "42eny09x5q_y",
        "outputId": "1930385c-bf34-4438-d509-31dcecd31e60",
        "colab": {
          "base_uri": "https://localhost:8080/",
          "height": 282
        }
      },
      "source": [
        "\n",
        "plt.scatter( x, y)\n",
        "x_fine = Variable(torch.linspace(0,10,50), requires_grad=False)\n",
        "y_fine = forward( x_fine, exp_hat )\n",
        "print( exp_hat )\n",
        "plt.plot(x_fine,y_fine.detach().numpy())\n",
        "plt.show()\n"
      ],
      "execution_count": 71,
      "outputs": [
        {
          "output_type": "stream",
          "text": [
            "tensor([2.0141], requires_grad=True)\n"
          ],
          "name": "stdout"
        },
        {
          "output_type": "display_data",
          "data": {
            "image/png": "[encoded data removed]",
            "text/plain": [
              "<Figure size 432x288 with 1 Axes>"
            ]
          },
          "metadata": {
            "tags": [],
            "needs_background": "light"
          }
        }
      ]
    },
    {
      "cell_type": "code",
      "metadata": {
        "id": "EYFBSfqN7Ewz"
      },
      "source": [
        ""
      ],
      "execution_count": null,
      "outputs": []
    }
  ]
}